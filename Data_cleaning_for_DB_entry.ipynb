{
  "nbformat": 4,
  "nbformat_minor": 0,
  "metadata": {
    "colab": {
      "name": "Data cleaning for DB entry.ipynb",
      "provenance": [],
      "collapsed_sections": [],
      "toc_visible": true
    },
    "kernelspec": {
      "name": "python3",
      "display_name": "Python 3"
    }
  },
  "cells": [
    {
      "cell_type": "markdown",
      "metadata": {
        "id": "BRnKqzYVCfjS",
        "colab_type": "text"
      },
      "source": [
        "# mount drive, load modules\n"
      ]
    },
    {
      "cell_type": "code",
      "metadata": {
        "id": "I30O-50yCnkB",
        "colab_type": "code",
        "outputId": "ac5d3828-59af-468c-a81c-fb9399b6e5fe",
        "colab": {
          "base_uri": "https://localhost:8080/",
          "height": 125
        }
      },
      "source": [
        "from google.colab import drive\n",
        "drive.mount('/content/drive')"
      ],
      "execution_count": 1,
      "outputs": [
        {
          "output_type": "stream",
          "text": [
            "Go to this URL in a browser: https://accounts.google.com/o/oauth2/auth?client_id=947318989803-6bn6qk8qdgf4n4g3pfee6491hc0brc4i.apps.googleusercontent.com&redirect_uri=urn%3aietf%3awg%3aoauth%3a2.0%3aoob&response_type=code&scope=email%20https%3a%2f%2fwww.googleapis.com%2fauth%2fdocs.test%20https%3a%2f%2fwww.googleapis.com%2fauth%2fdrive%20https%3a%2f%2fwww.googleapis.com%2fauth%2fdrive.photos.readonly%20https%3a%2f%2fwww.googleapis.com%2fauth%2fpeopleapi.readonly\n",
            "\n",
            "Enter your authorization code:\n",
            "··········\n",
            "Mounted at /content/drive\n"
          ],
          "name": "stdout"
        }
      ]
    },
    {
      "cell_type": "code",
      "metadata": {
        "id": "Dc_s9ENDqXw4",
        "colab_type": "code",
        "colab": {}
      },
      "source": [
        "import os\n",
        "import pandas as pd\n",
        "import numpy as np\n",
        "import csv"
      ],
      "execution_count": 0,
      "outputs": []
    },
    {
      "cell_type": "code",
      "metadata": {
        "id": "dufihRypCa8h",
        "colab_type": "code",
        "colab": {}
      },
      "source": [
        "data_path = '/content/drive/Shared drives/CIS 550 Final Project/Raw Data'"
      ],
      "execution_count": 0,
      "outputs": []
    },
    {
      "cell_type": "markdown",
      "metadata": {
        "id": "vQivRTy6q0zx",
        "colab_type": "text"
      },
      "source": [
        "# load in data as pandas dataframes and do some manipulating"
      ]
    },
    {
      "cell_type": "code",
      "metadata": {
        "id": "uV6zEnYhq71G",
        "colab_type": "code",
        "outputId": "35847ceb-93e0-4bcf-b8da-967e1bddb311",
        "colab": {
          "base_uri": "https://localhost:8080/",
          "height": 263
        }
      },
      "source": [
        "# wine reviews data\n",
        "wine_df = pd.read_csv(os.path.join(data_path, 'winemag-data-130k-v2.csv'), header=0)\n",
        "wine_df.head"
      ],
      "execution_count": 0,
      "outputs": [
        {
          "output_type": "execute_result",
          "data": {
            "text/plain": [
              "<bound method NDFrame.head of         Unnamed: 0  ...                                    winery\n",
              "0                0  ...                                   Nicosia\n",
              "1                1  ...                       Quinta dos Avidagos\n",
              "2                2  ...                                 Rainstorm\n",
              "3                3  ...                                St. Julian\n",
              "4                4  ...                              Sweet Cheeks\n",
              "...            ...  ...                                       ...\n",
              "129966      129966  ...  Dr. H. Thanisch (Erben Müller-Burggraef)\n",
              "129967      129967  ...                                  Citation\n",
              "129968      129968  ...                           Domaine Gresser\n",
              "129969      129969  ...                      Domaine Marcel Deiss\n",
              "129970      129970  ...                          Domaine Schoffit\n",
              "\n",
              "[129971 rows x 14 columns]>"
            ]
          },
          "metadata": {
            "tags": []
          },
          "execution_count": 4
        }
      ]
    },
    {
      "cell_type": "code",
      "metadata": {
        "id": "trJDeFakrUd_",
        "colab_type": "code",
        "outputId": "69b44350-c52f-4f12-afd0-325fde89ffde",
        "colab": {
          "base_uri": "https://localhost:8080/",
          "height": 283
        }
      },
      "source": [
        "#beer reviews data\n",
        "beer_df = pd.read_csv(os.path.join(data_path, 'beer_reviews.csv'), header=0)\n",
        "beer_df.head"
      ],
      "execution_count": 0,
      "outputs": [
        {
          "output_type": "execute_result",
          "data": {
            "text/plain": [
              "<bound method NDFrame.head of          brewery_id                 brewery_name  ...  beer_abv  beer_beerid\n",
              "0             10325              Vecchio Birraio  ...       5.0        47986\n",
              "1             10325              Vecchio Birraio  ...       6.2        48213\n",
              "2             10325              Vecchio Birraio  ...       6.5        48215\n",
              "3             10325              Vecchio Birraio  ...       5.0        47969\n",
              "4              1075      Caldera Brewing Company  ...       7.7        64883\n",
              "...             ...                          ...  ...       ...          ...\n",
              "1586609       14359  The Defiant Brewing Company  ...       5.2        33061\n",
              "1586610       14359  The Defiant Brewing Company  ...       5.2        33061\n",
              "1586611       14359  The Defiant Brewing Company  ...       5.2        33061\n",
              "1586612       14359  The Defiant Brewing Company  ...       5.2        33061\n",
              "1586613       14359  The Defiant Brewing Company  ...       5.2        33061\n",
              "\n",
              "[1586614 rows x 13 columns]>"
            ]
          },
          "metadata": {
            "tags": []
          },
          "execution_count": 6
        }
      ]
    },
    {
      "cell_type": "code",
      "metadata": {
        "id": "6DkRyAojrdo1",
        "colab_type": "code",
        "outputId": "3b639cae-a588-4162-e585-ee0fa6a96d4b",
        "colab": {
          "base_uri": "https://localhost:8080/",
          "height": 263
        }
      },
      "source": [
        "#food pairings data\n",
        "pair_df = pd.read_csv(os.path.join(data_path, 'food_pairings.csv'), header=0, encoding=\"ISO-8859-1\")\n",
        "pair_df.head"
      ],
      "execution_count": 0,
      "outputs": [
        {
          "output_type": "execute_result",
          "data": {
            "text/plain": [
              "<bound method NDFrame.head of      Beverage Category  ... Rating\n",
              "0               Sherry  ...    5.0\n",
              "1               Sherry  ...    5.0\n",
              "2             Red Wine  ...    5.0\n",
              "3             Red Wine  ...    5.0\n",
              "4         Dessert Wine  ...    5.0\n",
              "...                ...  ...    ...\n",
              "9732          Red Wine  ...    0.0\n",
              "9733        White Wine  ...    0.0\n",
              "9734        White Wine  ...    0.0\n",
              "9735          Red Wine  ...    0.0\n",
              "9736          Red Wine  ...    0.0\n",
              "\n",
              "[9737 rows x 4 columns]>"
            ]
          },
          "metadata": {
            "tags": []
          },
          "execution_count": 94
        }
      ]
    },
    {
      "cell_type": "code",
      "metadata": {
        "id": "vwbcgvuTsDTT",
        "colab_type": "code",
        "outputId": "285d7c7c-f8fa-4346-90a6-b46567c1370f",
        "colab": {
          "base_uri": "https://localhost:8080/",
          "height": 263
        }
      },
      "source": [
        "#breweries data\n",
        "brewery_df = pd.read_csv(os.path.join(data_path, 'brewery_locs.csv'), header=0)\n",
        "brewery_df.head"
      ],
      "execution_count": 0,
      "outputs": [
        {
          "output_type": "execute_result",
          "data": {
            "text/plain": [
              "<bound method NDFrame.head of                          id  ...                     location\n",
              "0      AVweN1T_ByjofQCxwSPL  ...                          NaN\n",
              "1      AVwdkF9ZIN2L1WUfxDfw  ...                          NaN\n",
              "2      AVwdlPkf_7pvs4fz7TMr  ...                          NaN\n",
              "3      AVwcucY0kufWRAb5yWbU  ...  POINT(-89.747904 43.138995)\n",
              "4      AVweCkd5kufWRAb5_eaI  ...                          NaN\n",
              "...                     ...  ...                          ...\n",
              "17818  AVwdtsEW_7pvs4fz8mDR  ...   POINT(-122.11454 38.26635)\n",
              "17819  AVwdbm7h_7pvs4fz51CP  ...   POINT(-75.18084 39.974457)\n",
              "17820  AVwdKtAi_7pvs4fz29Aw  ...     POINT(-73.9234 40.70142)\n",
              "17821  AV6a8ZmsIxWefVJwqvmS  ...                          NaN\n",
              "17822  AVzBGdwNLD2H7whiWMc8  ...   POINT(-73.99348 40.752705)\n",
              "\n",
              "[17823 rows x 16 columns]>"
            ]
          },
          "metadata": {
            "tags": []
          },
          "execution_count": 8
        }
      ]
    },
    {
      "cell_type": "code",
      "metadata": {
        "id": "JI02PJKRse39",
        "colab_type": "code",
        "outputId": "31064e09-a7d6-4c8e-93cb-85d8d977cafa",
        "colab": {
          "base_uri": "https://localhost:8080/",
          "height": 69
        }
      },
      "source": [
        "#drop the attribute columns we didn't want\n",
        "wine_df = wine_df.drop(columns=['Unnamed: 0', 'description', 'designation',\n",
        "                                'region_2', 'taster_name', 'taster_twitter_handle'])\n",
        "wine_df.columns"
      ],
      "execution_count": 0,
      "outputs": [
        {
          "output_type": "execute_result",
          "data": {
            "text/plain": [
              "Index(['country', 'points', 'price', 'province', 'region_1', 'title',\n",
              "       'variety', 'winery'],\n",
              "      dtype='object')"
            ]
          },
          "metadata": {
            "tags": []
          },
          "execution_count": 9
        }
      ]
    },
    {
      "cell_type": "code",
      "metadata": {
        "id": "sm0WZ2XCu5pf",
        "colab_type": "code",
        "outputId": "8ba19a24-a885-4e9c-a155-d9c51fb513bd",
        "colab": {
          "base_uri": "https://localhost:8080/",
          "height": 34
        }
      },
      "source": [
        "# we have 118k unique wines before I cut some out - nice\n",
        "len(wine_df.title.unique())"
      ],
      "execution_count": 0,
      "outputs": [
        {
          "output_type": "execute_result",
          "data": {
            "text/plain": [
              "118840"
            ]
          },
          "metadata": {
            "tags": []
          },
          "execution_count": 10
        }
      ]
    },
    {
      "cell_type": "code",
      "metadata": {
        "id": "8PkAQ4ervT4G",
        "colab_type": "code",
        "outputId": "7ca9f6a6-c4d2-4781-b2b3-671a8ac059c5",
        "colab": {
          "base_uri": "https://localhost:8080/",
          "height": 34
        }
      },
      "source": [
        "#remove entries with no variety\n",
        "#lol that was only 1 entry we chilling\n",
        "wine_df = wine_df.dropna(subset=['variety'])\n",
        "wine_df.shape"
      ],
      "execution_count": 0,
      "outputs": [
        {
          "output_type": "execute_result",
          "data": {
            "text/plain": [
              "(129970, 8)"
            ]
          },
          "metadata": {
            "tags": []
          },
          "execution_count": 11
        }
      ]
    },
    {
      "cell_type": "code",
      "metadata": {
        "id": "zlV1C9EextYE",
        "colab_type": "code",
        "outputId": "db66fc1c-3649-4e99-82b4-95fb1c7e8976",
        "colab": {
          "base_uri": "https://localhost:8080/",
          "height": 283
        }
      },
      "source": [
        "#ok now parse the vintage from the title into a new column\n",
        "vintage = []\n",
        "titles = wine_df.title.to_list()\n",
        "for title in titles:\n",
        "    minage = 1930\n",
        "    maxage = 2020\n",
        "    vintages = [int(x) for x in title.split(' ') if x.isdigit()]\n",
        "    correct_vintages = [x for x in vintages if x > minage and x < maxage]\n",
        "    if len(correct_vintages) == 0:\n",
        "        vintage.append(None)\n",
        "    else:\n",
        "        vintage.append(max(correct_vintages))\n",
        "\n",
        "wine_df['vintage'] = vintage\n",
        "wine_df.head"
      ],
      "execution_count": 0,
      "outputs": [
        {
          "output_type": "execute_result",
          "data": {
            "text/plain": [
              "<bound method NDFrame.head of          country  points  ...                                    winery vintage\n",
              "0          Italy      87  ...                                   Nicosia  2013.0\n",
              "1       Portugal      87  ...                       Quinta dos Avidagos  2011.0\n",
              "2             US      87  ...                                 Rainstorm  2013.0\n",
              "3             US      87  ...                                St. Julian  2013.0\n",
              "4             US      87  ...                              Sweet Cheeks  2012.0\n",
              "...          ...     ...  ...                                       ...     ...\n",
              "129966   Germany      90  ...  Dr. H. Thanisch (Erben Müller-Burggraef)  2013.0\n",
              "129967        US      90  ...                                  Citation  2004.0\n",
              "129968    France      90  ...                           Domaine Gresser  2013.0\n",
              "129969    France      90  ...                      Domaine Marcel Deiss  2012.0\n",
              "129970    France      90  ...                          Domaine Schoffit  2012.0\n",
              "\n",
              "[129970 rows x 9 columns]>"
            ]
          },
          "metadata": {
            "tags": []
          },
          "execution_count": 48
        }
      ]
    },
    {
      "cell_type": "code",
      "metadata": {
        "id": "tE_KZY3KJ5Ts",
        "colab_type": "code",
        "outputId": "2d90ed0e-dc95-4779-cb8d-0e6db3026efa",
        "colab": {
          "base_uri": "https://localhost:8080/",
          "height": 105
        }
      },
      "source": [
        "#convert the pairing rating to int\n",
        "pair_df.Rating = [int(x*20) for x in pair_df.Rating]\n",
        "pair_df.dtypes"
      ],
      "execution_count": 0,
      "outputs": [
        {
          "output_type": "execute_result",
          "data": {
            "text/plain": [
              "Beverage Category    object\n",
              "Beverage             object\n",
              "Food                 object\n",
              "Rating                int64\n",
              "dtype: object"
            ]
          },
          "metadata": {
            "tags": []
          },
          "execution_count": 95
        }
      ]
    },
    {
      "cell_type": "code",
      "metadata": {
        "id": "A40T6SitKQ_O",
        "colab_type": "code",
        "colab": {}
      },
      "source": [
        "#remove columns we don't want from \n",
        "beer_df = beer_df[['brewery_name', 'review_overall', 'beer_style', 'beer_name', 'beer_beerid']]"
      ],
      "execution_count": 0,
      "outputs": []
    },
    {
      "cell_type": "code",
      "metadata": {
        "id": "9VHn2MzhLkCp",
        "colab_type": "code",
        "outputId": "844cdeec-2648-40cd-a96b-8e218bfe3723",
        "colab": {
          "base_uri": "https://localhost:8080/",
          "height": 389
        }
      },
      "source": [
        "beer_df.review_overall = [int(x*20) for x in beer_df.review_overall]\n",
        "beer_df.head"
      ],
      "execution_count": 0,
      "outputs": [
        {
          "output_type": "stream",
          "text": [
            "/usr/local/lib/python3.6/dist-packages/pandas/core/generic.py:5303: SettingWithCopyWarning: \n",
            "A value is trying to be set on a copy of a slice from a DataFrame.\n",
            "Try using .loc[row_indexer,col_indexer] = value instead\n",
            "\n",
            "See the caveats in the documentation: https://pandas.pydata.org/pandas-docs/stable/user_guide/indexing.html#returning-a-view-versus-a-copy\n",
            "  self[name] = value\n"
          ],
          "name": "stderr"
        },
        {
          "output_type": "execute_result",
          "data": {
            "text/plain": [
              "<bound method NDFrame.head of                         brewery_name  ...  beer_beerid\n",
              "0                    Vecchio Birraio  ...        47986\n",
              "1                    Vecchio Birraio  ...        48213\n",
              "2                    Vecchio Birraio  ...        48215\n",
              "3                    Vecchio Birraio  ...        47969\n",
              "4            Caldera Brewing Company  ...        64883\n",
              "...                              ...  ...          ...\n",
              "1586609  The Defiant Brewing Company  ...        33061\n",
              "1586610  The Defiant Brewing Company  ...        33061\n",
              "1586611  The Defiant Brewing Company  ...        33061\n",
              "1586612  The Defiant Brewing Company  ...        33061\n",
              "1586613  The Defiant Brewing Company  ...        33061\n",
              "\n",
              "[1586614 rows x 5 columns]>"
            ]
          },
          "metadata": {
            "tags": []
          },
          "execution_count": 69
        }
      ]
    },
    {
      "cell_type": "code",
      "metadata": {
        "id": "PR4buC1mL6fF",
        "colab_type": "code",
        "outputId": "30a454cf-8bde-46ae-cad9-bb3374e6a6da",
        "colab": {
          "base_uri": "https://localhost:8080/",
          "height": 263
        }
      },
      "source": [
        "#remove all the junk from the breweries dataset\n",
        "brewery_df = brewery_df[['name', 'province']]\n",
        "brewery_df.head"
      ],
      "execution_count": 0,
      "outputs": [
        {
          "output_type": "execute_result",
          "data": {
            "text/plain": [
              "<bound method NDFrame.head of                                 name province\n",
              "0                     Adirondack Pub       NY\n",
              "1                The Waterfront Cafe       WI\n",
              "2                  559 Local Brewing       CA\n",
              "3                          Shack The       WI\n",
              "4                   Flat12 Bierworks    Utica\n",
              "...                              ...      ...\n",
              "17818                   Bask Cellars       CA\n",
              "17819  Crime & Punishment Brewing Co       PA\n",
              "17820            Circo's Pastry Shop       NY\n",
              "17821                         Bevmo!       CA\n",
              "17822                Cooper's Tavern       NY\n",
              "\n",
              "[17823 rows x 2 columns]>"
            ]
          },
          "metadata": {
            "tags": []
          },
          "execution_count": 73
        }
      ]
    },
    {
      "cell_type": "markdown",
      "metadata": {
        "id": "pYhC3GcLMn2s",
        "colab_type": "text"
      },
      "source": [
        "# Final data manipulation to ensure good joins, etc."
      ]
    },
    {
      "cell_type": "code",
      "metadata": {
        "id": "_sxUw0DIMs2L",
        "colab_type": "code",
        "colab": {}
      },
      "source": [
        "#merge the beer df and brewery df - ok not too bad 770 were found\n",
        "us_brew = set(brewery_df.name.unique())\n",
        "all_brew = set(beer_df.brewery_name.unique())\n",
        "len(us_brew.intersection(all_brew))\n",
        "beer_brew_df = pd.merge(left=beer_df, right=brewery_df, how='left', left_on='brewery_name', right_on='name')"
      ],
      "execution_count": 0,
      "outputs": []
    },
    {
      "cell_type": "code",
      "metadata": {
        "id": "I7dKIo0bOdR6",
        "colab_type": "code",
        "outputId": "5c0b2dbf-5397-4c77-cf06-daf402cddede",
        "colab": {
          "base_uri": "https://localhost:8080/",
          "height": 87
        }
      },
      "source": [
        "#some provinces are not states need to change\n",
        "pair_df['Beverage Category'].unique()"
      ],
      "execution_count": 0,
      "outputs": [
        {
          "output_type": "execute_result",
          "data": {
            "text/plain": [
              "array(['Sherry', 'Red Wine', 'Dessert Wine', 'Sparkling Wine', 'Liquor',\n",
              "       'White Wine', 'Beer', 'Port', 'Dairy', 'Rosé', 'Pop', 'Juice',\n",
              "       'Other', 'Coffee', 'Fortified Wine', 'Tea', 'Sake', 'R Wine Brand',\n",
              "       'Beer Brand', 'W Wine Brand'], dtype=object)"
            ]
          },
          "metadata": {
            "tags": []
          },
          "execution_count": 97
        }
      ]
    },
    {
      "cell_type": "code",
      "metadata": {
        "id": "UzCngRsXUXlF",
        "colab_type": "code",
        "colab": {}
      },
      "source": [
        "#remove some of the pair categories\n",
        "acceptable_categories = {'Sherry', 'Red Wine', 'Dessert Wine', 'Sparkling Wine','White Wine', 'Beer', 'Port', 'Rosé'}\n",
        "pair_df = pair_df[pair_df['Beverage Category'].isin(acceptable_categories)]"
      ],
      "execution_count": 0,
      "outputs": []
    },
    {
      "cell_type": "code",
      "metadata": {
        "id": "2-mc1navVmA1",
        "colab_type": "code",
        "colab": {}
      },
      "source": [
        "wine_df = wine_df.drop(columns=['region_1'])"
      ],
      "execution_count": 0,
      "outputs": []
    },
    {
      "cell_type": "code",
      "metadata": {
        "id": "qSXM3RptWlvU",
        "colab_type": "code",
        "colab": {}
      },
      "source": [
        "wine_df.vintage = wine_df.vintage.astype('Int64')"
      ],
      "execution_count": 0,
      "outputs": []
    },
    {
      "cell_type": "markdown",
      "metadata": {
        "id": "f3R84EtQdEi9",
        "colab_type": "text"
      },
      "source": [
        "stopping point"
      ]
    },
    {
      "cell_type": "code",
      "metadata": {
        "id": "16EW9xmJdGq6",
        "colab_type": "code",
        "colab": {}
      },
      "source": [
        "#ok gonna stop here for now... definitely not done but want to upload something to AWS for querying\n",
        "wine_df.to_csv(os.path.join(data_path, 'wine_df.csv'))\n",
        "pair_df.to_csv(os.path.join(data_path, 'pair_df.csv'))\n",
        "beer_brew_df.to_csv(os.path.join(data_path, 'beer_brew_df.csv'))"
      ],
      "execution_count": 0,
      "outputs": []
    },
    {
      "cell_type": "markdown",
      "metadata": {
        "id": "On7-DOlVtwkJ",
        "colab_type": "text"
      },
      "source": [
        "# final DF join stuff..."
      ]
    },
    {
      "cell_type": "code",
      "metadata": {
        "id": "vfwMlI1Kt0LE",
        "colab_type": "code",
        "outputId": "1bbab7cf-5834-4f92-8e82-3ba414a405d8",
        "colab": {
          "base_uri": "https://localhost:8080/",
          "height": 72
        }
      },
      "source": [
        "wine_df = pd.read_csv(os.path.join(data_path, 'wine_df.csv'), index_col=0)\n",
        "pair_df = pd.read_csv(os.path.join(data_path, 'pair_df.csv'), index_col=0)\n",
        "beer_brew_df = pd.read_csv(os.path.join(data_path, 'beer_brew_df.csv'), index_col=0)"
      ],
      "execution_count": 70,
      "outputs": [
        {
          "output_type": "stream",
          "text": [
            "/usr/local/lib/python3.6/dist-packages/numpy/lib/arraysetops.py:569: FutureWarning: elementwise comparison failed; returning scalar instead, but in the future will perform elementwise comparison\n",
            "  mask |= (ar1 == a)\n"
          ],
          "name": "stderr"
        }
      ]
    },
    {
      "cell_type": "code",
      "metadata": {
        "id": "RbOOy84wt8-a",
        "colab_type": "code",
        "colab": {}
      },
      "source": [
        "#remove the attrs we don't want\n",
        "beer_brew_df = beer_brew_df.drop(columns=['beer_beerid', 'name'])"
      ],
      "execution_count": 0,
      "outputs": []
    },
    {
      "cell_type": "code",
      "metadata": {
        "id": "zTq95lwRuwGR",
        "colab_type": "code",
        "colab": {}
      },
      "source": [
        "#need to ensure 3 joins are ok:\n",
        "#1. join between provinces of beer and wine\n",
        "#2. join between wine and pairing \n",
        "#3. join between beer and pairing"
      ],
      "execution_count": 0,
      "outputs": []
    },
    {
      "cell_type": "code",
      "metadata": {
        "id": "WR52uFRCvbSB",
        "colab_type": "code",
        "outputId": "a9045a9a-24a1-4aa3-b956-d368942fd699",
        "colab": {
          "base_uri": "https://localhost:8080/",
          "height": 122
        }
      },
      "source": [
        "#looks like the wine data spells them out\n",
        "wine_df[wine_df['country'] == 'US'].province.unique()"
      ],
      "execution_count": 72,
      "outputs": [
        {
          "output_type": "execute_result",
          "data": {
            "text/plain": [
              "array(['Oregon', 'Michigan', 'California', 'Virginia', 'Washington',\n",
              "       'New York', 'Idaho', 'Texas', 'Pennsylvania', 'America',\n",
              "       'New Jersey', 'Missouri', 'New Mexico', 'Nevada', 'Colorado',\n",
              "       'Arizona', 'Massachusetts', 'Ohio', 'Illinois',\n",
              "       'Washington-Oregon', 'North Carolina', 'Iowa', 'Vermont',\n",
              "       'Kentucky', 'Connecticut', 'Rhode Island', 'Hawaii'], dtype=object)"
            ]
          },
          "metadata": {
            "tags": []
          },
          "execution_count": 72
        }
      ]
    },
    {
      "cell_type": "code",
      "metadata": {
        "id": "71AK8guorxfO",
        "colab_type": "code",
        "outputId": "03db26cf-5f4e-4f82-ef5f-28eb8bb594ee",
        "colab": {
          "base_uri": "https://localhost:8080/",
          "height": 122
        }
      },
      "source": [
        "wine_df.province = ['Washington' if x == 'Washington-Oregon' else x for x in wine_df.province]\n",
        "wine_df[wine_df['country'] == 'US'].province.unique()"
      ],
      "execution_count": 73,
      "outputs": [
        {
          "output_type": "execute_result",
          "data": {
            "text/plain": [
              "array(['Oregon', 'Michigan', 'California', 'Virginia', 'Washington',\n",
              "       'New York', 'Idaho', 'Texas', 'Pennsylvania', 'America',\n",
              "       'New Jersey', 'Missouri', 'New Mexico', 'Nevada', 'Colorado',\n",
              "       'Arizona', 'Massachusetts', 'Ohio', 'Illinois', 'North Carolina',\n",
              "       'Iowa', 'Vermont', 'Kentucky', 'Connecticut', 'Rhode Island',\n",
              "       'Hawaii'], dtype=object)"
            ]
          },
          "metadata": {
            "tags": []
          },
          "execution_count": 73
        }
      ]
    },
    {
      "cell_type": "code",
      "metadata": {
        "id": "tFSQjsPiwE9a",
        "colab_type": "code",
        "colab": {}
      },
      "source": [
        "province_map = {\n",
        "    'OR': 'Oregon', 'IN': 'Indiana', 'GA': 'Georgia', 'OH': 'Ohio', 'CA': 'California',\n",
        "    'TN': 'Tennessee', 'WA': 'Washington', 'NY': 'New York', 'NC': 'North Carolina',\n",
        "    'LA': 'Louisiana', 'MA': 'Massachusetts', 'Inman Square': 'Massachusetts',\n",
        "    'IL': 'Illinois', 'Salt Lake Cty': 'Utah', 'UT': 'Utah', 'NV': 'Nevada',\n",
        "    'Happy Valley': 'Oregon', 'MO': 'Montana', 'FL': 'Florida', 'Burl': 'Vermont',\n",
        "    'La Conchita': 'California', 'Woodmont Beach': 'Connecticut', 'Northgate': 'Washington',\n",
        "    'Hoffman Estates': 'Illinois', 'MD': 'Maryland', 'NJ': 'New Jersey',\n",
        "    'AR': 'Arkansas', 'Co Spgs': 'Colorado', 'CO': 'Colorado', 'Pt Canaveral': 'Florida',\n",
        "    'Chapmantown': 'California', 'Coddington': 'Rhode Island', 'ME': 'Maine',\n",
        "    'MI': 'Michigan', 'Ft Macarthur': 'California', 'SC': 'South Carolina',\n",
        "    'AZ': 'Arizona', 'Naples': 'Florida', 'DE': 'Delaware', 'KY': 'Kentucky',\n",
        "    'IA': 'Iowa', 'MT': 'Montana', 'AL': 'Alabama', 'Calverton Park': 'Missouri',\n",
        "    'PA': 'Pennsylvania', 'Fairhaven': 'Massachusetts', 'Ewing Township': 'New Jersey',\n",
        "    'TX': 'Texas', 'KS': 'Kansas', 'DC': 'Maryland', 'VA': 'Virginia',\n",
        "    'Central Valley': 'California', 'Richardson Springs': 'California', \n",
        "    'Chumstick': 'Washington', 'Peoria': 'Illinois', 'MN': 'Minnesota', \n",
        "    'SD': 'South Dakota', 'National Harbor': 'Maryland', 'ND': 'North Dakota',\n",
        "    'Mayfield Hts': 'Ohio', 'Lauderdale': 'Florida', 'NE': 'Nebraska',\n",
        "    'Grimville': 'Pennsylvania', 'Schellville': 'California',\n",
        "    'Blk Btte Rnch': 'Oregon', 'South Hampton': 'New York', 'Lake Mary': 'Florida',\n",
        "    'Kingsley Field': 'Oregon', 'Spfld': 'Kentucky', 'Mount Sharp': 'Texas', \n",
        "    'Cadys Falls': 'Vermont', 'Dewey': 'Oklahoma', 'Oaklandon': 'Indiana',\n",
        "    'Burr Oak': 'Iowa', 'NH': 'New Hampshire', 'Vadnais Hts': 'Minnesota',\n",
        "    'Manila': 'Utah', 'AK': 'Alaska', 'US': np.nan, 'Chas': 'South Carolina',\n",
        "    'Jelm': 'Wyoming', 'Rancho West': 'California', 'NM': 'New Mexico', \n",
        "    'City Of Wb': 'Pennsylvania', 'Mount Carmel': 'Illinois', 'Mettler': 'Ohio',\n",
        "    'Universal Cty': 'California', 'So Portland': 'Oregon', 'Veazie': 'Maine',\n",
        "    'St Remy': 'Ohio', 'OK': 'Oklahoma', 'Bayview': 'North Carolina',\n",
        "    'Josephville': 'Missouri', 'CT': 'Connecticut', 'VT': 'Vermont',\n",
        "    'Jenneville': 'Vermont', 'N Conway': 'New Hampshire', 'Manor Ridge': 'North Carolina',\n",
        "    'Center City': 'Pennsylvania', 'Elnora': 'Indiana', 'Willow Park': 'Texas',\n",
        "    'South Salt Lake': 'Utah', 'North Menomonie': 'Wisconsin', 'Deiblers': 'Pennsylvania',\n",
        "    'Hanes': 'Florida', 'Beckett Point': 'Washington', 'Cascade': 'Iowa',\n",
        "    'Mphs': 'Tennessee', 'Rahns': 'Pennsylvania', 'Fairland': 'Maryland',\n",
        "    'Paradise Park': 'California', 'Circleville': 'Ohio', 'Longview': 'Texas',\n",
        "    'Playa Vista': 'California', 'HI': 'Hawaii', 'Hono': 'Hawaii', 'Tysons Corner': 'Virginia',\n",
        "    'Pozo': 'California', 'Orenco': 'Oregon', 'Paradise Pines': 'California',\n",
        "    'RI': 'Rhode Island', 'West Hillsborough': 'California', 'Searles': 'California',\n",
        "    'Tinton Falls': 'New Jersey', 'ID': 'Idaho', 'Hidden Springs': 'Florida',\n",
        "    'WY': 'Wyoming', 'WV': 'West Virginia', 'Echelon': 'New Jersey',\n",
        "    'East Patchogue': 'New York', 'Jax': 'Tennessee', 'Canyon Crest': 'California',\n",
        "    'Brunswick': 'Maryland', 'Levan': 'Utah', 'Queensborough': 'New York',\n",
        "    'Nyc': 'New York', 'Wallingford': 'Connecticut', 'Glaze City': 'Texas',\n",
        "    'Grnwood': 'Indiana', 'Cushing': 'Oklahoma', 'Woodcliff': 'New Jersey',\n",
        "    'Cimarron Hills': 'Colorado', 'West Homestead': 'Pennsylvania',\n",
        "    'Bad River Indian Reservation': 'Wisconsin', 'Red Village': 'New York',\n",
        "    'Laguna Woods': 'California', 'South Roanoke': 'Virginia', 'Crosby': 'Minnesota',\n",
        "    'Knollwood': 'Texas', 'Oella': 'Maryland', 'Lardo': 'Texas', 'Chupadero': 'New Mexico',\n",
        "    'High': 'Colorado', 'Saint Louis Park': 'Missouri', 'Grant Road Addition': 'Arizona',\n",
        "    'Quarry': 'Montana', 'N Egremont': 'Massachusetts', 'Kenn': 'Georgia',\n",
        "    'Lwrnce': 'Kansas', 'District of Columbia': 'Maryland', 'Mettawa': 'Illinois',\n",
        "    'Grand Mound': 'Washington', 'South Zanesville': 'Ohio', 'Dorrington': 'California',\n",
        "    'MS': 'Mississippi', 'Donegal Springs': 'Pennsylvania', 'Venetian Islands': 'Florida',\n",
        "    'Prt Jefferson': 'New York', 'Fox Rv Vly Gn': 'Wisconsin', 'Marshall Ford': 'Texas',\n",
        "    'Oso': 'Washington', 'Beautiful': np.nan, 'E Farmingdale': 'New York',\n",
        "    'Tequesta': 'Florida', 'North Madison': 'Wisconsin', 'Carmel': 'Indiana',\n",
        "    'Santa Rsa Bch': 'California', 'Stannard': 'Vermont', 'West Cape May': 'New Jersey',\n",
        "    'WI': 'Wisconsin'\n",
        "}"
      ],
      "execution_count": 0,
      "outputs": []
    },
    {
      "cell_type": "code",
      "metadata": {
        "id": "C3vys1pdv6dz",
        "colab_type": "code",
        "outputId": "d7961ba1-e250-4a4e-c2b4-c470585bb1a8",
        "colab": {
          "base_uri": "https://localhost:8080/",
          "height": 668
        }
      },
      "source": [
        "beer_brew_df.province.unique()"
      ],
      "execution_count": 75,
      "outputs": [
        {
          "output_type": "execute_result",
          "data": {
            "text/plain": [
              "array([nan, 'OR', 'IN', 'GA', 'OH', 'CA', 'TN', 'Tennessee', 'WA', 'NY',\n",
              "       'NC', 'LA', 'MA', 'Inman Square', 'IL', 'Salt Lake Cty', 'UT',\n",
              "       'NV', 'Happy Valley', 'MO', 'FL', 'Burl', 'La Conchita',\n",
              "       'Woodmont Beach', 'Northgate', 'Hoffman Estates', 'MD', 'NJ',\n",
              "       'Illinois', 'AR', 'Co Spgs', 'CO', 'Pt Canaveral', 'Chapmantown',\n",
              "       'Coddington', 'ME', 'MI', 'Ft Macarthur', 'Washington', 'SC', 'AZ',\n",
              "       'Naples', 'California', 'DE', 'KY', 'IA', 'MT', 'AL',\n",
              "       'Calverton Park', 'PA', 'Fairhaven', 'Ewing Township', 'TX', 'KS',\n",
              "       'DC', 'VA', 'Central Valley', 'Richardson Springs', 'Chumstick',\n",
              "       'Peoria', 'MN', 'WI', 'SD', 'National Harbor', 'ND',\n",
              "       'Mayfield Hts', 'Lauderdale', 'NE', 'Grimville', 'Schellville',\n",
              "       'Blk Btte Rnch', 'South Hampton', 'Lake Mary', 'Kingsley Field',\n",
              "       'Spfld', 'Mount Sharp', 'Cadys Falls', 'Dewey', 'Oaklandon',\n",
              "       'Burr Oak', 'NH', 'Vadnais Hts', 'Manila', 'AK', 'US', 'Chas',\n",
              "       'Jelm', 'Rancho West', 'NM', 'City Of Wb', 'Mount Carmel',\n",
              "       'New York', 'Mettler', 'Universal Cty', 'So Portland', 'Veazie',\n",
              "       'St Remy', 'OK', 'Bayview', 'Josephville', 'CT', 'VT',\n",
              "       'Jenneville', 'Colorado', 'N Conway', 'Manor Ridge', 'Center City',\n",
              "       'Elnora', 'Willow Park', 'Massachusetts', 'South Salt Lake',\n",
              "       'North Menomonie', 'Deiblers', 'Hanes', 'Beckett Point', 'Cascade',\n",
              "       'Mphs', 'Rahns', 'Fairland', 'Paradise Park', 'Circleville',\n",
              "       'Texas', 'Longview', 'Playa Vista', 'HI', 'Hono', 'Arizona',\n",
              "       'Tysons Corner', 'Pozo', 'Orenco', 'Paradise Pines', 'RI',\n",
              "       'West Hillsborough', 'Searles', 'Tinton Falls', 'ID',\n",
              "       'Hidden Springs', 'WY', 'WV', 'Echelon', 'East Patchogue', 'Jax',\n",
              "       'Canyon Crest', 'Brunswick', 'Levan', 'Queensborough', 'Nyc',\n",
              "       'Wallingford', 'Glaze City', 'Grnwood', 'Cushing', 'Woodcliff',\n",
              "       'Cimarron Hills', 'West Homestead', 'Bad River Indian Reservation',\n",
              "       'Red Village', 'Laguna Woods', 'South Roanoke', 'Crosby',\n",
              "       'Knollwood', 'Oella', 'Lardo', 'Chupadero', 'High',\n",
              "       'Saint Louis Park', 'Grant Road Addition', 'Quarry', 'N Egremont',\n",
              "       'Kenn', 'Lwrnce', 'District of Columbia', 'Mettawa', 'Grand Mound',\n",
              "       'South Zanesville', 'Dorrington', 'MS', 'Donegal Springs',\n",
              "       'Venetian Islands', 'Prt Jefferson', 'Fox Rv Vly Gn',\n",
              "       'Marshall Ford', 'Oso', 'Beautiful', 'E Farmingdale', 'Tequesta',\n",
              "       'North Madison', 'Carmel', 'Santa Rsa Bch', 'Stannard',\n",
              "       'West Cape May'], dtype=object)"
            ]
          },
          "metadata": {
            "tags": []
          },
          "execution_count": 75
        }
      ]
    },
    {
      "cell_type": "code",
      "metadata": {
        "id": "NSOH4GqFqhKm",
        "colab_type": "code",
        "colab": {}
      },
      "source": [
        "beer_brew_df.province = [province_map[x] if x in province_map else x for x in beer_brew_df.province]"
      ],
      "execution_count": 0,
      "outputs": []
    },
    {
      "cell_type": "code",
      "metadata": {
        "id": "b8zqJRhhq_ct",
        "colab_type": "code",
        "outputId": "27944a7b-2f06-4c71-8cd2-51f7752be4bf",
        "colab": {
          "base_uri": "https://localhost:8080/",
          "height": 210
        }
      },
      "source": [
        "beer_brew_df.province.unique()"
      ],
      "execution_count": 77,
      "outputs": [
        {
          "output_type": "execute_result",
          "data": {
            "text/plain": [
              "array([nan, 'Oregon', 'Indiana', 'Georgia', 'Ohio', 'California',\n",
              "       'Tennessee', 'Washington', 'New York', 'North Carolina',\n",
              "       'Louisiana', 'Massachusetts', 'Illinois', 'Utah', 'Nevada',\n",
              "       'Montana', 'Florida', 'Vermont', 'Connecticut', 'Maryland',\n",
              "       'New Jersey', 'Arkansas', 'Colorado', 'Rhode Island', 'Maine',\n",
              "       'Michigan', 'South Carolina', 'Arizona', 'Delaware', 'Kentucky',\n",
              "       'Iowa', 'Alabama', 'Missouri', 'Pennsylvania', 'Texas', 'Kansas',\n",
              "       'Virginia', 'Minnesota', 'Wisconsin', 'South Dakota',\n",
              "       'North Dakota', 'Nebraska', 'Oklahoma', 'New Hampshire', 'Alaska',\n",
              "       'Wyoming', 'New Mexico', 'Hawaii', 'Idaho', 'West Virginia',\n",
              "       'Mississippi'], dtype=object)"
            ]
          },
          "metadata": {
            "tags": []
          },
          "execution_count": 77
        }
      ]
    },
    {
      "cell_type": "code",
      "metadata": {
        "id": "F0HxPqMBsi0Z",
        "colab_type": "code",
        "colab": {}
      },
      "source": [
        "#ok now let's look at the beers because likely smaller\n",
        "ratebeer = set(beer_brew_df.beer_style.unique())"
      ],
      "execution_count": 0,
      "outputs": []
    },
    {
      "cell_type": "code",
      "metadata": {
        "id": "5AcJTCYosrVn",
        "colab_type": "code",
        "colab": {}
      },
      "source": [
        "pairbeer = set(pair_df[pair_df['Beverage Category'] == 'Beer'].Beverage.unique())"
      ],
      "execution_count": 0,
      "outputs": []
    },
    {
      "cell_type": "code",
      "metadata": {
        "id": "X56-TzfntHVC",
        "colab_type": "code",
        "outputId": "10c67a9d-476f-4d0b-d8a6-0440b66c81fb",
        "colab": {
          "base_uri": "https://localhost:8080/",
          "height": 545
        }
      },
      "source": [
        "pairbeer.intersection(ratebeer)"
      ],
      "execution_count": 80,
      "outputs": [
        {
          "output_type": "execute_result",
          "data": {
            "text/plain": [
              "{'Altbier',\n",
              " 'American Brown Ale',\n",
              " 'American Porter',\n",
              " 'American Stout',\n",
              " 'Baltic Porter',\n",
              " 'Belgian Pale Ale',\n",
              " 'Cream Ale',\n",
              " 'Doppelbock',\n",
              " 'Dubbel',\n",
              " 'Eisbock',\n",
              " 'English Brown Ale',\n",
              " 'English Porter',\n",
              " 'Flanders Red Ale',\n",
              " 'Gose',\n",
              " 'Gueuze',\n",
              " 'Irish Red Ale',\n",
              " 'Kölsch',\n",
              " 'Oatmeal Stout',\n",
              " 'Old Ale',\n",
              " 'Pumpkin Ale',\n",
              " 'Rauchbier',\n",
              " 'Russian Imperial Stout',\n",
              " 'Sahti',\n",
              " 'Schwarzbier',\n",
              " 'Scottish Ale',\n",
              " 'Smoked Beer',\n",
              " 'Tripel',\n",
              " 'Vienna Lager',\n",
              " 'Wheatwine',\n",
              " 'Witbier'}"
            ]
          },
          "metadata": {
            "tags": []
          },
          "execution_count": 80
        }
      ]
    },
    {
      "cell_type": "code",
      "metadata": {
        "id": "ZtfaTuTHfpVz",
        "colab_type": "code",
        "colab": {}
      },
      "source": [
        "newdf = pd.read_csv(os.path.join(data_path,'beer pairings.csv'),encoding= 'unicode_escape')\n",
        "newdf = newdf[['orig', 'new']]\n",
        "oldnames = [x[2:-1] for x in newdf['orig']]\n",
        "newnames = newdf.new.tolist()\n",
        "mapper = {}\n",
        "for (x,y) in zip(oldnames, newnames):\n",
        "    mapper[x] = y\n",
        "mapper['Ale, Very Hoppy'] = 'English Strong Ale'\n",
        "mapper['Ale, British'] = 'English Pale Mild Ale'\n",
        "mapper['Session Sour Beer'] = 'Extra Special / Strong Bitter (ESB)'"
      ],
      "execution_count": 0,
      "outputs": []
    },
    {
      "cell_type": "code",
      "metadata": {
        "id": "YgclZXMGr_WU",
        "colab_type": "code",
        "colab": {}
      },
      "source": [
        "#use the mapper to update the beer style in pairing\n",
        "pair_df.Beverage = [mapper[x] if y=='Beer' else x for (x,y) in zip(pair_df['Beverage'].tolist(), pair_df['Beverage Category'].tolist())]"
      ],
      "execution_count": 0,
      "outputs": []
    },
    {
      "cell_type": "code",
      "metadata": {
        "id": "WT2zT1N_uEhB",
        "colab_type": "code",
        "outputId": "9915a297-21ca-45d2-87c7-b2e769d44cc6",
        "colab": {
          "base_uri": "https://localhost:8080/",
          "height": 263
        }
      },
      "source": [
        "pair_df = pair_df.drop_duplicates(subset=['Beverage Category', 'Beverage', 'Food'])\n",
        "pair_df.head"
      ],
      "execution_count": 83,
      "outputs": [
        {
          "output_type": "execute_result",
          "data": {
            "text/plain": [
              "<bound method NDFrame.head of      Beverage Category  ... Rating\n",
              "0               Sherry  ...    100\n",
              "1               Sherry  ...    100\n",
              "2             Red Wine  ...    100\n",
              "3             Red Wine  ...    100\n",
              "4         Dessert Wine  ...    100\n",
              "...                ...  ...    ...\n",
              "9732          Red Wine  ...      0\n",
              "9733        White Wine  ...      0\n",
              "9734        White Wine  ...      0\n",
              "9735          Red Wine  ...      0\n",
              "9736          Red Wine  ...      0\n",
              "\n",
              "[9067 rows x 4 columns]>"
            ]
          },
          "metadata": {
            "tags": []
          },
          "execution_count": 83
        }
      ]
    },
    {
      "cell_type": "code",
      "metadata": {
        "id": "nDMG8XE61XH2",
        "colab_type": "code",
        "outputId": "041a139c-6eaa-4c6f-f5e4-ce44bfa0f990",
        "colab": {
          "base_uri": "https://localhost:8080/",
          "height": 34
        }
      },
      "source": [
        "#sanity check they're all in there\n",
        "testset = set(pair_df[pair_df['Beverage Category'] == 'Beer'].Beverage.unique())\n",
        "testset.difference(ratebeer)"
      ],
      "execution_count": 85,
      "outputs": [
        {
          "output_type": "execute_result",
          "data": {
            "text/plain": [
              "set()"
            ]
          },
          "metadata": {
            "tags": []
          },
          "execution_count": 85
        }
      ]
    },
    {
      "cell_type": "code",
      "metadata": {
        "id": "IKOmXrRQJZln",
        "colab_type": "code",
        "outputId": "704d743a-29b4-4826-9916-a1aaf5720396",
        "colab": {
          "base_uri": "https://localhost:8080/",
          "height": 52
        }
      },
      "source": [
        "pair_df['Beverage Category'].unique()"
      ],
      "execution_count": 86,
      "outputs": [
        {
          "output_type": "execute_result",
          "data": {
            "text/plain": [
              "array(['Sherry', 'Red Wine', 'Dessert Wine', 'Sparkling Wine',\n",
              "       'White Wine', 'Beer', 'Port', 'Rosé'], dtype=object)"
            ]
          },
          "metadata": {
            "tags": []
          },
          "execution_count": 86
        }
      ]
    },
    {
      "cell_type": "code",
      "metadata": {
        "id": "ugsHuaIvJm13",
        "colab_type": "code",
        "outputId": "c3c59d19-72bd-44aa-dbd0-36f40e345251",
        "colab": {
          "base_uri": "https://localhost:8080/",
          "height": 369
        }
      },
      "source": [
        "grouped = wine_df.groupby('variety').count().reset_index()\n",
        "grouped2 = grouped.sort_values('country', ascending=False)\n",
        "sorted_variety = grouped2.variety.tolist()\n",
        "sorted_variety[0:20]"
      ],
      "execution_count": 87,
      "outputs": [
        {
          "output_type": "execute_result",
          "data": {
            "text/plain": [
              "['Pinot Noir',\n",
              " 'Chardonnay',\n",
              " 'Cabernet Sauvignon',\n",
              " 'Red Blend',\n",
              " 'Bordeaux-style Red Blend',\n",
              " 'Riesling',\n",
              " 'Sauvignon Blanc',\n",
              " 'Syrah',\n",
              " 'Rosé',\n",
              " 'Merlot',\n",
              " 'Nebbiolo',\n",
              " 'Zinfandel',\n",
              " 'Sangiovese',\n",
              " 'Malbec',\n",
              " 'Portuguese Red',\n",
              " 'White Blend',\n",
              " 'Sparkling Blend',\n",
              " 'Tempranillo',\n",
              " 'Rhône-style Red Blend',\n",
              " 'Pinot Gris']"
            ]
          },
          "metadata": {
            "tags": []
          },
          "execution_count": 87
        }
      ]
    },
    {
      "cell_type": "code",
      "metadata": {
        "id": "o0zGDelL4Jwm",
        "colab_type": "code",
        "colab": {
          "base_uri": "https://localhost:8080/",
          "height": 1000
        },
        "outputId": "09c81327-5fb1-4388-cbd9-301ace042e01"
      },
      "source": [
        "set(pair_df[pair_df['Beverage Category'] != 'Beer'].Beverage.unique())"
      ],
      "execution_count": 88,
      "outputs": [
        {
          "output_type": "execute_result",
          "data": {
            "text/plain": [
              "{'Aglianico',\n",
              " 'Ajaccio, Red AOC',\n",
              " 'Ajaccio, White AOC',\n",
              " 'Albariño',\n",
              " 'Alentejo, Red',\n",
              " 'Aligoté',\n",
              " 'Aloxe Corton, Red',\n",
              " 'Alsace Chasselas (AOC)',\n",
              " 'Altenberg De Bergbieten Grand Cru - Dry Riesling',\n",
              " 'Altenberg De Bergbieten Grand Cru - Gewurztraminer',\n",
              " 'Altenberg De Bergheim Grand Cru - Riesling',\n",
              " 'Altenberg de Bergbieten Grand Cru - Sélections de Grains Nobles',\n",
              " 'Altenberg de Bergbieten Grand Cru - Vendanges Tardives',\n",
              " 'Altenberg de Wolxheim Grand Cru - Riesling',\n",
              " 'Amarone',\n",
              " 'Anjou, Red',\n",
              " 'Anjou-Blanc',\n",
              " 'Anjou-Gamay',\n",
              " 'Anjou-Villages Brissac',\n",
              " 'Anjous-Villages',\n",
              " 'Ansonica',\n",
              " 'Appassimento',\n",
              " 'Arbois, Red',\n",
              " 'Arbois, White',\n",
              " 'Arneis',\n",
              " 'Assyrtiko',\n",
              " 'Asti (DOCG), Frizzante or Spumante',\n",
              " 'Asti Frizzante, (DOCG)',\n",
              " 'Asti Spumante, (DOCG)',\n",
              " 'Auxey-Duresses, Red',\n",
              " 'Auxey-Duresses, White',\n",
              " 'Baco Noir',\n",
              " 'Bandol Rosé AOC',\n",
              " 'Bandol, Red AOC',\n",
              " 'Bandol, Red/White AOC',\n",
              " 'Bandol, White AOC',\n",
              " 'Banyuls',\n",
              " 'Banyuls, Vintage',\n",
              " 'Barbaresco DOCG',\n",
              " 'Barbaresco Riserva DOCG',\n",
              " 'Barbera DOC',\n",
              " \"Barbera d'Alba (DOC)\",\n",
              " \"Barbera d'Asti (DOC)\",\n",
              " 'Bardolino Superiore',\n",
              " 'Barolo',\n",
              " 'Barsac',\n",
              " 'Beaujolais',\n",
              " 'Beaujolais Villages',\n",
              " 'Beaujolais, Cru',\n",
              " 'Beaune, Red',\n",
              " 'Beaune, White',\n",
              " 'Beernauslese',\n",
              " 'Bellet, Red AOC',\n",
              " 'Bellet, White AOC',\n",
              " 'Bergerac, Red',\n",
              " 'Bergerac, White',\n",
              " 'Blagny',\n",
              " 'Blauer Portugieser',\n",
              " 'Blaye Côtes de Bordeaux (AOP)',\n",
              " 'Bonnes-Mares',\n",
              " 'Bonnezeaux',\n",
              " 'Bordeaux',\n",
              " 'Bordeaux AOC Red',\n",
              " 'Bordeaux AOC White',\n",
              " 'Bordeaux Clairet',\n",
              " 'Bordeaux, White, Dry',\n",
              " 'Bourgogne Coulanges-la-Vineuse - White',\n",
              " 'Bourgueil',\n",
              " 'Bouzeron',\n",
              " 'Brachetto',\n",
              " \"Brachetto d'Acqui\",\n",
              " 'Brand - Grand Cru',\n",
              " 'Brouilly',\n",
              " 'Brouilly, Red',\n",
              " 'Bruderthal Grand Cru',\n",
              " 'Brunello di Montalcino (DOCG)',\n",
              " 'Brunello di Montalcino Riserva (DOCG)',\n",
              " 'Burgundy, Red',\n",
              " 'Burgundy, White',\n",
              " 'Bâtard-Montrachet',\n",
              " \"Cabernet D'Anjou\",\n",
              " 'Cabernet Franc',\n",
              " 'Cabernet Sauvignon',\n",
              " 'Cahors AOC',\n",
              " 'Cannonau',\n",
              " 'Carignan',\n",
              " 'Cariñena',\n",
              " 'Carménère',\n",
              " 'Casablanca',\n",
              " 'Cassis - Provence',\n",
              " 'Castillon Côtes de Bordeaux (AOP)',\n",
              " 'Catarratto Bianco',\n",
              " 'Cava',\n",
              " 'Chablis',\n",
              " 'Chablis Grand Cru',\n",
              " 'Chablis Premier Cru',\n",
              " 'Chablis, Cru',\n",
              " 'Chambertin',\n",
              " 'Chambolle-Musigny, Red',\n",
              " 'Chambourcin',\n",
              " 'Champagne',\n",
              " 'Champagne, Blanc de Noirs',\n",
              " 'Champagne, Blanc de blancs',\n",
              " 'Champagne, Brut',\n",
              " 'Champagne, Demi-Sec',\n",
              " 'Champagne, Doux',\n",
              " 'Champagne, Dry',\n",
              " 'Champagne, Extra Dry',\n",
              " 'Champagne, Rosé',\n",
              " 'Champagne, Sec',\n",
              " 'Chardonnay',\n",
              " 'Chardonnay, Unoaked',\n",
              " 'Charlemagne, White',\n",
              " 'Chassagne Montrachet, White',\n",
              " 'Chasselas',\n",
              " 'Chenin Blanc',\n",
              " 'Chenin Blanc, Dry',\n",
              " 'Chenin Blanc, Loire Valley',\n",
              " 'Chenin Blanc, Off-Dry',\n",
              " 'Chianti Classico DOCG',\n",
              " 'Chianti Classico, Riserva DOCG',\n",
              " 'Chianti Colli Senesi DOCG',\n",
              " 'Chianti DOCG',\n",
              " 'Chianti Riserva DOCG',\n",
              " 'Chinon Saignée',\n",
              " 'Chinon, Red (AOC)',\n",
              " 'Chinon, Rosé (AOC)',\n",
              " 'Châteaumeillant, Red',\n",
              " 'Châteaumeillant, Rosé',\n",
              " 'Châteauneuf du Pape, Red',\n",
              " 'Châteauneuf du Pape, White',\n",
              " 'Cinsaut',\n",
              " 'Clairet Rosé',\n",
              " 'Clairette Blanche',\n",
              " 'Claret, Aged',\n",
              " 'Collines Rhodaniennes (IGP) - Red',\n",
              " 'Collines Rhodaniennes - White',\n",
              " 'Condrieu (AOC)',\n",
              " 'Constantia',\n",
              " 'Corbières AOP',\n",
              " 'Corbières, Red (AOC)',\n",
              " 'Cornas AOC',\n",
              " 'Corse AOP',\n",
              " 'Costières de Nimes, White',\n",
              " 'Coteaux Varois en Provence - White',\n",
              " 'Coteaux de l\\x92Aubance',\n",
              " 'Coteaux du Languedoc, Red AOC',\n",
              " 'Coteaux du Layon Sweet White Wine',\n",
              " 'Coteaux du Layon, Semi Dry White Wine',\n",
              " 'Coteaux du Lyonnais - AOP - White',\n",
              " 'Crianza',\n",
              " 'Crozes Hermitage, Red',\n",
              " \"Crémant d'Alsace, Rosé\",\n",
              " \"Crémant d'Alsace, White\",\n",
              " 'Crémant de Bordeaux',\n",
              " 'Crémant de Burgundy',\n",
              " 'Côte Châlonnaise, Red',\n",
              " 'Côte Rôtie (AOC)',\n",
              " 'Côte de Beaune, Red',\n",
              " 'Côte de Beaune, White',\n",
              " \"Côtes d'Auvergne, Red\",\n",
              " 'Côtes de Bourg, Red',\n",
              " 'Côtes de Bourg, White',\n",
              " 'Côtes de Duras',\n",
              " 'Côtes de Provence Sainte-Victoire - Rose',\n",
              " 'Côtes de Provence, Red AOC',\n",
              " 'Côtes de Provence, Rosé AOC',\n",
              " 'Côtes de Provence, White AOC',\n",
              " 'Côtes du Rhône Villages Puyméras - AOP',\n",
              " 'Côtes du Rhône Villages Rasteau',\n",
              " 'Côtes du Rhône Villages Valréas',\n",
              " 'Côtes du Rhône Villages, Red',\n",
              " 'Côtes du Rhône, Red',\n",
              " 'Côtes du Rhône, White',\n",
              " 'Côtes du Roussillon, White',\n",
              " 'Côtes du Ventoux',\n",
              " 'Dolcetto (DOC)',\n",
              " \"Dolcetto d'Alba DOC\",\n",
              " \"Dolcetto d'Alba Superiore DOC\",\n",
              " \"Dolcetto d'Asti DOC\",\n",
              " 'Dornfelder',\n",
              " 'Douro',\n",
              " 'Edelzwicker - Alsace',\n",
              " 'Eichberg Grand Cru - Pinot Gris',\n",
              " 'Eiswein',\n",
              " 'Engelberg Grand Cru - Riesling',\n",
              " 'Falanghina',\n",
              " 'Faugères (AOP)',\n",
              " 'Fiano',\n",
              " 'Fiano di Avellino, White, Dry',\n",
              " 'Fitou, Red',\n",
              " 'Fixin',\n",
              " 'Fleurie',\n",
              " 'Franciacorta Cremant Spumante Classico',\n",
              " 'Francs Côtes de Bordeaux (AOP)',\n",
              " 'Frankstein Grand Cru - Gewurztraminer',\n",
              " 'Frankstein Grand Cru - Pinot Gris',\n",
              " 'Frankstein Grand Cru - Riesling',\n",
              " 'Frascati',\n",
              " 'Fronsac',\n",
              " 'Fronton AOP',\n",
              " 'Fumé Blanc',\n",
              " 'Furmint',\n",
              " 'Gaillac White',\n",
              " 'Gamay',\n",
              " 'Garnacha',\n",
              " 'Garnacha Blanca',\n",
              " 'Garnacha Noir',\n",
              " 'Garnacha Rosé',\n",
              " 'Garnacha Sparkling Wine',\n",
              " 'Garnacha Tinta',\n",
              " 'Gavi/Cortese di Gavi (DOCG)',\n",
              " 'Geisberg Grand Cru',\n",
              " \"Gentil D'Alsace\",\n",
              " 'Gevrey Chambertin, Red',\n",
              " 'Gewürztraminer',\n",
              " 'Gewürztraminer, Alsace',\n",
              " 'Gewürztraminer, German',\n",
              " 'Gigondas',\n",
              " 'Godello',\n",
              " 'Granaccia',\n",
              " 'Grauburgunder',\n",
              " 'Graves, Red',\n",
              " 'Graves, White',\n",
              " 'Grecanico',\n",
              " 'Greco di Tufo, Spumante',\n",
              " 'Greco di Tufo, White',\n",
              " 'Grenache',\n",
              " 'Grenache Blanc',\n",
              " 'Grenache Gris',\n",
              " 'Grenache Shiraz Merlot (GSM)',\n",
              " 'Grignan-Les Adhemar - White',\n",
              " 'Grillo',\n",
              " 'Gros Manseng',\n",
              " 'Grüner Veltliner',\n",
              " 'Guatamalan Antigua',\n",
              " 'Haut-Médoc (AOC)',\n",
              " 'Hermitage, Red',\n",
              " 'Hermitage, Red/White',\n",
              " 'Hermitage, White',\n",
              " 'Ice Wine',\n",
              " 'Ice Wine, Riesling',\n",
              " 'Irouléguy AOC',\n",
              " 'Jumilla, Red',\n",
              " 'Jurançon, Dry AOC',\n",
              " 'Jurançon, Sweet AOC',\n",
              " 'Kabinett Riesling',\n",
              " 'Kirsh',\n",
              " 'Klevener de Heiligenstein',\n",
              " 'Koshu',\n",
              " 'La Clape (AOC) - White',\n",
              " 'Lambrusco',\n",
              " 'Lambrusco Grasparossa',\n",
              " 'Lambrusco Rosato',\n",
              " 'Lambrusco Secco (dry)',\n",
              " 'Lambrusco di Sorbara',\n",
              " 'Langhe Nebbiolo',\n",
              " 'Languedoc, Red',\n",
              " 'Languedoc, White',\n",
              " 'Late Harvest Gewürztraminer',\n",
              " 'Late Harvest Semillon',\n",
              " 'Late Harvest White Wines',\n",
              " 'Late Harvest Wine, Alsatian',\n",
              " 'Late Harvest Wine, Pinot Gris',\n",
              " 'Late Harvest Wines',\n",
              " 'Lirac AOC - White',\n",
              " 'Loupiac - AOP',\n",
              " 'Luberon AOP - Red',\n",
              " 'Lussac Saint-Émilion',\n",
              " 'Madeira',\n",
              " 'Madeira, Bual',\n",
              " 'Madeira, Malmsey',\n",
              " 'Madiran AOC',\n",
              " 'Malaga',\n",
              " 'Malbec',\n",
              " 'Malbec, Argentian',\n",
              " 'Malepère - AOP - Red',\n",
              " 'Marechal Foch',\n",
              " 'Margaux',\n",
              " 'Marsanne',\n",
              " 'Maury, Roussillon (Northern Catalonia)',\n",
              " 'Mencía',\n",
              " 'Menetou Salon Rosé',\n",
              " 'Menetou Salon, Red',\n",
              " 'Menetou Salon, White',\n",
              " 'Mercurey, Red',\n",
              " 'Merlot',\n",
              " 'Meursault',\n",
              " 'Minervois, Red',\n",
              " 'Monastrell',\n",
              " 'Monbazillac',\n",
              " 'Montefalco Rosso DOC',\n",
              " 'Montepulciano',\n",
              " \"Montepulciano d'Abruzzo\",\n",
              " 'Montrachet',\n",
              " 'Morey-St-Denis',\n",
              " 'Morgon',\n",
              " 'Morgon (AOP) - Beaujolais Crus',\n",
              " 'Moscatel',\n",
              " \"Moscato d'Asti\",\n",
              " 'Moulin-à-Vent',\n",
              " 'Mourvedre',\n",
              " 'Muenchberg - Grand Cru (Riesling)',\n",
              " 'Muscadet',\n",
              " 'Muscadet Sèvre et Maine',\n",
              " 'Muscadet, Sweet White Wine',\n",
              " 'Muscat de Beaumes-de-Venise',\n",
              " 'Muscat de Rivesaltes',\n",
              " 'Muscat, Alsace',\n",
              " 'Muscat, Black',\n",
              " 'Muscat, Dry',\n",
              " 'Muscat, Off-Dry',\n",
              " 'Muscat, Orange',\n",
              " 'Muscat, Sweet',\n",
              " 'Musigny, Red',\n",
              " 'Musigny, White',\n",
              " 'Mâcon, Red',\n",
              " 'Mâcon, White',\n",
              " 'Mâcon-Villages',\n",
              " 'Mâconnais, White',\n",
              " 'Médoc',\n",
              " 'Navarra',\n",
              " 'Nebbiolo',\n",
              " 'Negroamaro',\n",
              " 'Nerello Mascalese',\n",
              " \"Nero d'Avola\",\n",
              " 'Nuits St Georges, Red',\n",
              " 'Oaked Wine',\n",
              " 'Oriveto Classico Superiore (DOC)',\n",
              " 'Ormeasco',\n",
              " 'Orvieto (DOC)',\n",
              " 'Orvieto Classico (DOC)',\n",
              " 'Patrimonio, Red AOC',\n",
              " 'Patrimonio, Rosé AOC',\n",
              " 'Patrimonio, White AOC',\n",
              " 'Pauillac (AOC)',\n",
              " 'Pessac Léognan, White',\n",
              " 'Petit Chablis',\n",
              " 'Petit Verdot',\n",
              " 'Petite Sirah',\n",
              " 'Picpoul de Pinet',\n",
              " 'Pigato',\n",
              " 'Pinot Bianco',\n",
              " 'Pinot Blanc',\n",
              " 'Pinot Blanc Alsace',\n",
              " 'Pinot Grigio',\n",
              " 'Pinot Gris',\n",
              " 'Pinot Gris, Alsace',\n",
              " 'Pinot Noir',\n",
              " 'Pinotage',\n",
              " 'Pinotage, South Africa',\n",
              " 'Pomerol',\n",
              " 'Pommard',\n",
              " 'Port',\n",
              " 'Port, Ruby',\n",
              " 'Port, Tawny',\n",
              " 'Port, Vintage',\n",
              " 'Pouilly Fuissé',\n",
              " 'Pouilly Fumé',\n",
              " 'Pouilly sur Loire',\n",
              " 'Pradikat Riesling',\n",
              " 'Primitivo',\n",
              " 'Priorat',\n",
              " 'Priorato, Red',\n",
              " 'Priorato, White',\n",
              " 'Prosecco',\n",
              " 'Provençal Rosé',\n",
              " 'Puligny-Montrachet, White',\n",
              " 'Quarts de Chaume',\n",
              " 'Quincy',\n",
              " 'Recioto della Valpolicella',\n",
              " 'Recioto di Soave Classico Spumante (DOCG)',\n",
              " 'Red Wine',\n",
              " 'Retsina',\n",
              " 'Reuilly, Red',\n",
              " 'Reuilly, Rosé',\n",
              " 'Reuilly, White',\n",
              " 'Rhone, Red Wine',\n",
              " 'Rhône, White Wine',\n",
              " 'Ribera del Duero - Crianza',\n",
              " 'Ribera del Duero - Gran Reserva',\n",
              " 'Ribera del Duero - Reserva',\n",
              " 'Ribera del Duero, Red',\n",
              " 'Ribera del Duero, White',\n",
              " 'Ribolla Gialla',\n",
              " 'Rieslaner',\n",
              " 'Riesling',\n",
              " 'Riesling Sekt',\n",
              " 'Riesling, Alsace',\n",
              " 'Riesling, Auslese',\n",
              " 'Riesling, Grand Cru, Alsace',\n",
              " 'Riesling, Late Harvest',\n",
              " 'Riesling, Spätlese',\n",
              " 'Rioja Crianza',\n",
              " 'Rioja Gran Reserva',\n",
              " 'Rioja Reserva',\n",
              " 'Rioja, Red',\n",
              " 'Rioja, Rosé',\n",
              " 'Rioja, White',\n",
              " 'Ripasso Valpolicella',\n",
              " 'Roditis',\n",
              " 'Roero Rosso',\n",
              " 'Rosado',\n",
              " 'Rossese',\n",
              " 'Rosso Conero DOC',\n",
              " 'Rosso di Montalcino',\n",
              " 'Rosé',\n",
              " 'Rosé Port',\n",
              " 'Roussanne',\n",
              " 'Rutherglen Muscat',\n",
              " 'Sagrantino',\n",
              " 'Saignée Rosé',\n",
              " 'Saint Chinian, Rosé',\n",
              " 'Saint-Aubin',\n",
              " 'Saint-Estèphe',\n",
              " 'Saint-Joseph',\n",
              " 'Saint-Julien',\n",
              " 'Saint-Émilion AOC',\n",
              " 'Saint-Émilion Grand Cru',\n",
              " 'Salice Salentino',\n",
              " 'Sancerre',\n",
              " 'Sangiovese',\n",
              " 'Santeney, Red',\n",
              " 'Sauternes',\n",
              " 'Sauvignon Blanc',\n",
              " 'Savennières',\n",
              " 'Semillon',\n",
              " 'Sherry',\n",
              " 'Sherry, Amontillado',\n",
              " 'Sherry, Cream',\n",
              " 'Sherry, Dry',\n",
              " 'Sherry, Fino',\n",
              " 'Sherry, Manzanilla',\n",
              " 'Sherry, Oloroso',\n",
              " 'Sherry, PX or Pedro Ximenez',\n",
              " 'Sherry, Palo Cortado',\n",
              " 'Sherry, Sweet',\n",
              " 'Shiraz',\n",
              " 'Silvaner',\n",
              " 'Soave (Superiore)',\n",
              " 'Soave Superiore Classico',\n",
              " 'Sparkling Shiraz',\n",
              " 'Sparkling Wine',\n",
              " 'Sparkling Wine, Brut',\n",
              " 'Sparkling Wine, Demi-Sec',\n",
              " 'Sparkling Wine, Dry',\n",
              " 'Sparkling Wine, Rosé',\n",
              " 'Spätlese Riesling',\n",
              " 'Super Tuscan',\n",
              " 'Sweet Marsala',\n",
              " 'Sylvaner',\n",
              " 'Syrah',\n",
              " 'Syrah, France',\n",
              " 'Syrah, Languedoc',\n",
              " 'Syrah, Northern Rhône',\n",
              " 'Tannat',\n",
              " 'Tannic Wine',\n",
              " 'Taurasi',\n",
              " 'Tavel',\n",
              " 'Tempranillo',\n",
              " 'Tempranillo Crianza',\n",
              " 'Tempranillo Reserva',\n",
              " 'Tempranillo, Spain',\n",
              " 'Tocai Friulano',\n",
              " 'Tokaji',\n",
              " 'Tokaji, Hungary',\n",
              " 'Torrontés',\n",
              " 'Trebbiano',\n",
              " 'Trebbiano di Lugana',\n",
              " 'Tursan AOVDQS - White',\n",
              " 'Txakoli',\n",
              " 'Txakolina Rosado',\n",
              " 'Vacqueyras (AOC)',\n",
              " 'Valpolicella',\n",
              " 'Verdejo',\n",
              " 'Verdelho',\n",
              " 'Verdicchio',\n",
              " 'Verdicchio dei Castelli di Jesi (DOC)',\n",
              " 'Verduzzo',\n",
              " 'Vermentino',\n",
              " 'Vermentino Liguria',\n",
              " 'Vernaccia',\n",
              " 'Vernaccia di San Gimignano (DOC)',\n",
              " 'Vernaccia di Serrapetrona Spumante, Red, Dry',\n",
              " 'Vignoles',\n",
              " 'Vin Gris',\n",
              " 'Vin Juane',\n",
              " 'Vin Santo',\n",
              " 'Vin de Glaciere',\n",
              " 'Vin de Savoie - Red',\n",
              " 'Vin de Savoie - Sparkling',\n",
              " 'Vin de Savoie - White',\n",
              " 'Vinho Verde',\n",
              " 'Vino Nobile di Montepulciano',\n",
              " 'Viognier',\n",
              " 'Viura',\n",
              " 'Volnay, Red',\n",
              " 'Vosnes-Romanée',\n",
              " 'Vouvray',\n",
              " 'Vouvray Moelleux',\n",
              " 'Vouvray Sparkling White Wine',\n",
              " 'Vouvray Sweet Viscous White Wine',\n",
              " 'Vouvray, Demi-Sec',\n",
              " 'Vézelay',\n",
              " 'Vézelay Cuvee',\n",
              " 'Weissburgunder',\n",
              " 'White Wine',\n",
              " 'White Wine, Italian',\n",
              " 'White Wine, Oaked',\n",
              " 'White Wine, Unoaked',\n",
              " 'White Zinfandel',\n",
              " 'Zinfandel',\n",
              " 'Zinfandel, Late Harvest',\n",
              " 'Zweigelt'}"
            ]
          },
          "metadata": {
            "tags": []
          },
          "execution_count": 88
        }
      ]
    },
    {
      "cell_type": "code",
      "metadata": {
        "id": "LxHqYNmr2RBk",
        "colab_type": "code",
        "outputId": "2e6297f0-54f9-4a9c-bbbf-2e1bf387ce7f",
        "colab": {
          "base_uri": "https://localhost:8080/",
          "height": 34
        }
      },
      "source": [
        "#finally do the wine\n",
        "winevars = set(wine_df.variety.unique())\n",
        "winepairs = set(pair_df[pair_df['Beverage Category'] != 'Beer'].Beverage.unique())\n",
        "len(winevars.intersection(winepairs))"
      ],
      "execution_count": 89,
      "outputs": [
        {
          "output_type": "execute_result",
          "data": {
            "text/plain": [
              "95"
            ]
          },
          "metadata": {
            "tags": []
          },
          "execution_count": 89
        }
      ]
    },
    {
      "cell_type": "code",
      "metadata": {
        "id": "x6Lf3M-DQfKh",
        "colab_type": "code",
        "outputId": "fd0f8a66-8108-45e6-eb4e-a7d2fbdf5753",
        "colab": {
          "base_uri": "https://localhost:8080/",
          "height": 157
        }
      },
      "source": [
        "#how many of each category do i have\n",
        "for category in pair_df['Beverage Category'].unique():\n",
        "    print(category, len(pair_df[pair_df['Beverage Category'] == category].Beverage.unique()))"
      ],
      "execution_count": 90,
      "outputs": [
        {
          "output_type": "stream",
          "text": [
            "Sherry 12\n",
            "Red Wine 220\n",
            "Dessert Wine 53\n",
            "Sparkling Wine 40\n",
            "White Wine 212\n",
            "Beer 79\n",
            "Port 5\n",
            "Rosé 26\n"
          ],
          "name": "stdout"
        }
      ]
    },
    {
      "cell_type": "code",
      "metadata": {
        "id": "C75LQ7Isk1Lv",
        "colab_type": "code",
        "outputId": "827cf6e9-c0fb-44cd-c199-2d9b08d60829",
        "colab": {
          "base_uri": "https://localhost:8080/",
          "height": 509
        }
      },
      "source": [
        "#oof not too much overlap. start by removing sparkling wine, and making port, sherry and rose their own categories\n",
        "print(pair_df.head)\n",
        "pair_df = pair_df[pair_df['Beverage Category'] != 'Sparkling Wine']\n",
        "print(pair_df.head)"
      ],
      "execution_count": 91,
      "outputs": [
        {
          "output_type": "stream",
          "text": [
            "<bound method NDFrame.head of      Beverage Category  ... Rating\n",
            "0               Sherry  ...    100\n",
            "1               Sherry  ...    100\n",
            "2             Red Wine  ...    100\n",
            "3             Red Wine  ...    100\n",
            "4         Dessert Wine  ...    100\n",
            "...                ...  ...    ...\n",
            "9732          Red Wine  ...      0\n",
            "9733        White Wine  ...      0\n",
            "9734        White Wine  ...      0\n",
            "9735          Red Wine  ...      0\n",
            "9736          Red Wine  ...      0\n",
            "\n",
            "[9067 rows x 4 columns]>\n",
            "<bound method NDFrame.head of      Beverage Category  ... Rating\n",
            "0               Sherry  ...    100\n",
            "1               Sherry  ...    100\n",
            "2             Red Wine  ...    100\n",
            "3             Red Wine  ...    100\n",
            "4         Dessert Wine  ...    100\n",
            "...                ...  ...    ...\n",
            "9732          Red Wine  ...      0\n",
            "9733        White Wine  ...      0\n",
            "9734        White Wine  ...      0\n",
            "9735          Red Wine  ...      0\n",
            "9736          Red Wine  ...      0\n",
            "\n",
            "[8488 rows x 4 columns]>\n"
          ],
          "name": "stdout"
        }
      ]
    },
    {
      "cell_type": "code",
      "metadata": {
        "id": "BgH6LMuomo9B",
        "colab_type": "code",
        "outputId": "77094b67-536a-4276-a98a-86c18987fcae",
        "colab": {
          "base_uri": "https://localhost:8080/",
          "height": 142
        }
      },
      "source": [
        "pair_df.Beverage = ['Rosé' if y=='Rosé' else x for (x,y) in zip(pair_df['Beverage'].tolist(), pair_df['Beverage Category'].tolist())]\n",
        "pair_df.Beverage = ['Port' if y=='Port' else x for (x,y) in zip(pair_df['Beverage'].tolist(), pair_df['Beverage Category'].tolist())]\n",
        "pair_df.Beverage = ['Sherry' if y=='Sherry' else x for (x,y) in zip(pair_df['Beverage'].tolist(), pair_df['Beverage Category'].tolist())]"
      ],
      "execution_count": 92,
      "outputs": [
        {
          "output_type": "stream",
          "text": [
            "/usr/local/lib/python3.6/dist-packages/pandas/core/generic.py:5303: SettingWithCopyWarning: \n",
            "A value is trying to be set on a copy of a slice from a DataFrame.\n",
            "Try using .loc[row_indexer,col_indexer] = value instead\n",
            "\n",
            "See the caveats in the documentation: https://pandas.pydata.org/pandas-docs/stable/user_guide/indexing.html#returning-a-view-versus-a-copy\n",
            "  self[name] = value\n"
          ],
          "name": "stderr"
        }
      ]
    },
    {
      "cell_type": "code",
      "metadata": {
        "id": "175qa7y1nBzK",
        "colab_type": "code",
        "outputId": "d7ec8525-711c-4c6c-eb71-039aa07cf9bc",
        "colab": {
          "base_uri": "https://localhost:8080/",
          "height": 228
        }
      },
      "source": [
        "pair_df.Beverage"
      ],
      "execution_count": 93,
      "outputs": [
        {
          "output_type": "execute_result",
          "data": {
            "text/plain": [
              "0                 Sherry\n",
              "1                 Sherry\n",
              "2       Bordeaux AOC Red\n",
              "3              Zinfandel\n",
              "4              Vin Santo\n",
              "              ...       \n",
              "9732            Red Wine\n",
              "9733          Chardonnay\n",
              "9734     Burgundy, White\n",
              "9735            Red Wine\n",
              "9736          Rioja, Red\n",
              "Name: Beverage, Length: 8488, dtype: object"
            ]
          },
          "metadata": {
            "tags": []
          },
          "execution_count": 93
        }
      ]
    },
    {
      "cell_type": "code",
      "metadata": {
        "id": "EsYUfNDFnHsH",
        "colab_type": "code",
        "outputId": "9d78e5cb-37ea-4973-c03f-fa6745df06c1",
        "colab": {
          "base_uri": "https://localhost:8080/",
          "height": 34
        }
      },
      "source": [
        "#ok now need to write similarity again\n",
        "winevars = set(wine_df.variety.unique())\n",
        "winepairs = set(pair_df[pair_df['Beverage Category'] != 'Beer'].Beverage.unique())\n",
        "len(winevars.intersection(winepairs))"
      ],
      "execution_count": 94,
      "outputs": [
        {
          "output_type": "execute_result",
          "data": {
            "text/plain": [
              "93"
            ]
          },
          "metadata": {
            "tags": []
          },
          "execution_count": 94
        }
      ]
    },
    {
      "cell_type": "code",
      "metadata": {
        "id": "j3MUb1YR9ri6",
        "colab_type": "code",
        "colab": {}
      },
      "source": [
        "#wine is a string from the pairing, and sorted_variety is exactly that, in order of popularity\n",
        "import re\n",
        "def split_set(winename):\n",
        "    stringparsed = re.split('[-\\/,()\\s]', winename)\n",
        "    return set(stringparsed)\n",
        "    \n",
        "def helper(wine):\n",
        "    #returns set of words without , / - \n",
        "    wineset = split_set(wine)\n",
        "    firstset = split_set(sorted_variety[0])\n",
        "    \n",
        "    best = sorted_variety[0]\n",
        "    bestcount = len(wineset.intersection(firstset))\n",
        "\n",
        "    for i, wine2 in enumerate(sorted_variety[1:]):\n",
        "        newwine = split_set(wine2)\n",
        "        if len(wineset.intersection(newwine)) > bestcount:\n",
        "            bestcount = len(wineset.intersection(newwine))\n",
        "            best = sorted_variety[i+1]\n",
        "    return best"
      ],
      "execution_count": 0,
      "outputs": []
    },
    {
      "cell_type": "code",
      "metadata": {
        "id": "TdufSLR_8MjF",
        "colab_type": "code",
        "colab": {}
      },
      "source": [
        "#ok for the like 350 wines that aren't a match need to find a match\n",
        "#compare number of words in common to those in sorted_variety, choosing \n",
        "#best match by highest number of words and most common\n",
        "pairing_dict = {}\n",
        "for wine in winepairs:\n",
        "    if wine in winevars:\n",
        "        pairing_dict[wine] = wine\n",
        "    else:\n",
        "        pairing_dict[wine] = helper(wine)"
      ],
      "execution_count": 0,
      "outputs": []
    },
    {
      "cell_type": "code",
      "metadata": {
        "id": "Hl_EwtC__XiI",
        "colab_type": "code",
        "colab": {
          "base_uri": "https://localhost:8080/",
          "height": 1000
        },
        "outputId": "1138e588-27c9-4fb9-eda9-613501ec0e81"
      },
      "source": [
        "pairing_dict"
      ],
      "execution_count": 97,
      "outputs": [
        {
          "output_type": "execute_result",
          "data": {
            "text/plain": [
              "{'Aglianico': 'Aglianico',\n",
              " 'Ajaccio, Red AOC': 'Red Blend',\n",
              " 'Ajaccio, White AOC': 'White Blend',\n",
              " 'Albariño': 'Albariño',\n",
              " 'Alentejo, Red': 'Red Blend',\n",
              " 'Aligoté': 'Aligoté',\n",
              " 'Aloxe Corton, Red': 'Red Blend',\n",
              " 'Alsace Chasselas (AOC)': 'Corvina, Rondinella, Molinara',\n",
              " 'Altenberg De Bergbieten Grand Cru - Dry Riesling': 'Riesling',\n",
              " 'Altenberg De Bergbieten Grand Cru - Gewurztraminer': 'Corvina, Rondinella, Molinara',\n",
              " 'Altenberg De Bergheim Grand Cru - Riesling': 'Riesling',\n",
              " 'Altenberg de Bergbieten Grand Cru - Sélections de Grains Nobles': 'Corvina, Rondinella, Molinara',\n",
              " 'Altenberg de Bergbieten Grand Cru - Vendanges Tardives': 'Corvina, Rondinella, Molinara',\n",
              " 'Altenberg de Wolxheim Grand Cru - Riesling': 'Riesling',\n",
              " 'Amarone': 'Pinot Noir',\n",
              " 'Anjou, Red': 'Red Blend',\n",
              " 'Anjou-Blanc': 'Sauvignon Blanc',\n",
              " 'Anjou-Gamay': 'Gamay',\n",
              " 'Anjou-Villages Brissac': 'Pinot Noir',\n",
              " 'Anjous-Villages': 'Pinot Noir',\n",
              " 'Ansonica': 'Ansonica',\n",
              " 'Appassimento': 'Pinot Noir',\n",
              " 'Arbois, Red': 'Red Blend',\n",
              " 'Arbois, White': 'White Blend',\n",
              " 'Arneis': 'Arneis',\n",
              " 'Assyrtiko': 'Assyrtiko',\n",
              " 'Auxey-Duresses, Red': 'Red Blend',\n",
              " 'Auxey-Duresses, White': 'White Blend',\n",
              " 'Baco Noir': 'Baco Noir',\n",
              " 'Bandol, Red AOC': 'Red Blend',\n",
              " 'Bandol, Red/White AOC': 'Red Blend',\n",
              " 'Bandol, White AOC': 'White Blend',\n",
              " 'Banyuls': 'Pinot Noir',\n",
              " 'Banyuls, Vintage': 'Corvina, Rondinella, Molinara',\n",
              " 'Barbaresco DOCG': 'Pinot Noir',\n",
              " 'Barbaresco Riserva DOCG': 'Pinot Noir',\n",
              " 'Barbera DOC': 'Barbera',\n",
              " \"Barbera d'Alba (DOC)\": 'Barbera',\n",
              " \"Barbera d'Asti (DOC)\": 'Barbera',\n",
              " 'Bardolino Superiore': 'Pinot Noir',\n",
              " 'Barolo': 'Pinot Noir',\n",
              " 'Barsac': 'Pinot Noir',\n",
              " 'Beaujolais': 'Pinot Noir',\n",
              " 'Beaujolais Villages': 'Pinot Noir',\n",
              " 'Beaujolais, Cru': 'Corvina, Rondinella, Molinara',\n",
              " 'Beaune, Red': 'Red Blend',\n",
              " 'Beaune, White': 'White Blend',\n",
              " 'Beernauslese': 'Pinot Noir',\n",
              " 'Bellet, Red AOC': 'Red Blend',\n",
              " 'Bellet, White AOC': 'White Blend',\n",
              " 'Bergerac, Red': 'Red Blend',\n",
              " 'Bergerac, White': 'White Blend',\n",
              " 'Blagny': 'Pinot Noir',\n",
              " 'Blauer Portugieser': 'Blauer Portugieser',\n",
              " 'Blaye Côtes de Bordeaux (AOP)': 'Bordeaux-style Red Blend',\n",
              " 'Bonnes-Mares': 'Pinot Noir',\n",
              " 'Bonnezeaux': 'Pinot Noir',\n",
              " 'Bordeaux': 'Bordeaux-style Red Blend',\n",
              " 'Bordeaux AOC Red': 'Bordeaux-style Red Blend',\n",
              " 'Bordeaux AOC White': 'Bordeaux-style White Blend',\n",
              " 'Bordeaux, White, Dry': 'Bordeaux-style White Blend',\n",
              " 'Bourgogne Coulanges-la-Vineuse - White': 'White Blend',\n",
              " 'Bourgueil': 'Pinot Noir',\n",
              " 'Bouzeron': 'Pinot Noir',\n",
              " 'Brachetto': 'Brachetto',\n",
              " \"Brachetto d'Acqui\": 'Brachetto',\n",
              " 'Brand - Grand Cru': 'Corvina, Rondinella, Molinara',\n",
              " 'Brouilly': 'Pinot Noir',\n",
              " 'Brouilly, Red': 'Red Blend',\n",
              " 'Bruderthal Grand Cru': 'Pinot Noir',\n",
              " 'Brunello di Montalcino (DOCG)': 'Corvina, Rondinella, Molinara',\n",
              " 'Brunello di Montalcino Riserva (DOCG)': 'Corvina, Rondinella, Molinara',\n",
              " 'Burgundy, Red': 'Red Blend',\n",
              " 'Burgundy, White': 'White Blend',\n",
              " 'Bâtard-Montrachet': 'Pinot Noir',\n",
              " 'Cabernet Franc': 'Cabernet Franc',\n",
              " 'Cabernet Sauvignon': 'Cabernet Sauvignon',\n",
              " 'Cahors AOC': 'Pinot Noir',\n",
              " 'Cannonau': 'Cannonau',\n",
              " 'Carignan': 'Carignan',\n",
              " 'Cariñena': 'Cariñena-Garnacha',\n",
              " 'Carménère': 'Malbec-Carménère',\n",
              " 'Casablanca': 'Pinot Noir',\n",
              " 'Cassis - Provence': 'Corvina, Rondinella, Molinara',\n",
              " 'Castillon Côtes de Bordeaux (AOP)': 'Bordeaux-style Red Blend',\n",
              " 'Catarratto Bianco': 'Pinot Bianco',\n",
              " 'Chablis': 'Pinot Noir',\n",
              " 'Chablis Grand Cru': 'Pinot Noir',\n",
              " 'Chablis Premier Cru': 'Pinot Noir',\n",
              " 'Chablis, Cru': 'Corvina, Rondinella, Molinara',\n",
              " 'Chambertin': 'Pinot Noir',\n",
              " 'Chambolle-Musigny, Red': 'Red Blend',\n",
              " 'Chambourcin': 'Chambourcin',\n",
              " 'Champagne, Blanc de blancs': 'Sauvignon Blanc',\n",
              " 'Chardonnay': 'Chardonnay',\n",
              " 'Chardonnay, Unoaked': 'Chardonnay',\n",
              " 'Charlemagne, White': 'White Blend',\n",
              " 'Chassagne Montrachet, White': 'White Blend',\n",
              " 'Chasselas': 'Chasselas',\n",
              " 'Chenin Blanc': 'Chenin Blanc',\n",
              " 'Chenin Blanc, Dry': 'Chenin Blanc',\n",
              " 'Chenin Blanc, Loire Valley': 'Chenin Blanc',\n",
              " 'Chenin Blanc, Off-Dry': 'Chenin Blanc',\n",
              " 'Chianti Classico DOCG': 'Pinot Noir',\n",
              " 'Chianti Classico, Riserva DOCG': 'Corvina, Rondinella, Molinara',\n",
              " 'Chianti Colli Senesi DOCG': 'Pinot Noir',\n",
              " 'Chianti DOCG': 'Pinot Noir',\n",
              " 'Chianti Riserva DOCG': 'Pinot Noir',\n",
              " 'Chinon, Red (AOC)': 'Red Blend',\n",
              " 'Châteaumeillant, Red': 'Red Blend',\n",
              " 'Châteauneuf du Pape, Red': 'Red Blend',\n",
              " 'Châteauneuf du Pape, White': 'White Blend',\n",
              " 'Cinsaut': 'Pinot Noir',\n",
              " 'Clairette Blanche': 'Clairette',\n",
              " 'Claret, Aged': 'Corvina, Rondinella, Molinara',\n",
              " 'Collines Rhodaniennes (IGP) - Red': 'Red Blend',\n",
              " 'Collines Rhodaniennes - White': 'White Blend',\n",
              " 'Condrieu (AOC)': 'Corvina, Rondinella, Molinara',\n",
              " 'Constantia': 'Pinot Noir',\n",
              " 'Corbières AOP': 'Pinot Noir',\n",
              " 'Corbières, Red (AOC)': 'Red Blend',\n",
              " 'Cornas AOC': 'Pinot Noir',\n",
              " 'Costières de Nimes, White': 'White Blend',\n",
              " 'Coteaux Varois en Provence - White': 'White Blend',\n",
              " 'Coteaux de l\\x92Aubance': 'Tinta de Toro',\n",
              " 'Coteaux du Languedoc, Red AOC': 'Red Blend',\n",
              " 'Coteaux du Layon Sweet White Wine': 'White Blend',\n",
              " 'Coteaux du Layon, Semi Dry White Wine': 'White Blend',\n",
              " 'Coteaux du Lyonnais - AOP - White': 'White Blend',\n",
              " 'Crianza': 'Pinot Noir',\n",
              " 'Crozes Hermitage, Red': 'Red Blend',\n",
              " 'Côte Châlonnaise, Red': 'Red Blend',\n",
              " 'Côte Rôtie (AOC)': 'Corvina, Rondinella, Molinara',\n",
              " 'Côte de Beaune, Red': 'Red Blend',\n",
              " 'Côte de Beaune, White': 'White Blend',\n",
              " \"Côtes d'Auvergne, Red\": 'Red Blend',\n",
              " 'Côtes de Bourg, Red': 'Red Blend',\n",
              " 'Côtes de Bourg, White': 'White Blend',\n",
              " 'Côtes de Duras': 'Tinta de Toro',\n",
              " 'Côtes de Provence Sainte-Victoire - Rose': 'Corvina, Rondinella, Molinara',\n",
              " 'Côtes de Provence, Red AOC': 'Red Blend',\n",
              " 'Côtes de Provence, White AOC': 'White Blend',\n",
              " 'Côtes du Rhône Villages Puyméras - AOP': 'Rhône-style Red Blend',\n",
              " 'Côtes du Rhône Villages Rasteau': 'Rhône-style Red Blend',\n",
              " 'Côtes du Rhône Villages Valréas': 'Rhône-style Red Blend',\n",
              " 'Côtes du Rhône Villages, Red': 'Rhône-style Red Blend',\n",
              " 'Côtes du Rhône, Red': 'Rhône-style Red Blend',\n",
              " 'Côtes du Rhône, White': 'Rhône-style White Blend',\n",
              " 'Côtes du Roussillon, White': 'White Blend',\n",
              " 'Côtes du Ventoux': 'Blanc du Bois',\n",
              " 'Dolcetto (DOC)': 'Corvina, Rondinella, Molinara',\n",
              " \"Dolcetto d'Alba DOC\": 'Dolcetto',\n",
              " \"Dolcetto d'Alba Superiore DOC\": 'Dolcetto',\n",
              " \"Dolcetto d'Asti DOC\": 'Dolcetto',\n",
              " 'Dornfelder': 'Dornfelder',\n",
              " 'Douro': 'Pinot Noir',\n",
              " 'Edelzwicker - Alsace': 'Corvina, Rondinella, Molinara',\n",
              " 'Eichberg Grand Cru - Pinot Gris': 'Pinot Gris',\n",
              " 'Eiswein': 'Pinot Noir',\n",
              " 'Engelberg Grand Cru - Riesling': 'Riesling',\n",
              " 'Falanghina': 'Falanghina',\n",
              " 'Faugères (AOP)': 'Corvina, Rondinella, Molinara',\n",
              " 'Fiano': 'Fiano',\n",
              " 'Fiano di Avellino, White, Dry': 'White Blend',\n",
              " 'Fitou, Red': 'Red Blend',\n",
              " 'Fixin': 'Pinot Noir',\n",
              " 'Fleurie': 'Pinot Noir',\n",
              " 'Francs Côtes de Bordeaux (AOP)': 'Bordeaux-style Red Blend',\n",
              " 'Frankstein Grand Cru - Gewurztraminer': 'Corvina, Rondinella, Molinara',\n",
              " 'Frankstein Grand Cru - Pinot Gris': 'Pinot Gris',\n",
              " 'Frankstein Grand Cru - Riesling': 'Riesling',\n",
              " 'Frascati': 'Pinot Noir',\n",
              " 'Fronsac': 'Pinot Noir',\n",
              " 'Fronton AOP': 'Pinot Noir',\n",
              " 'Fumé Blanc': 'Fumé Blanc',\n",
              " 'Furmint': 'Furmint',\n",
              " 'Gaillac White': 'White Blend',\n",
              " 'Gamay': 'Gamay',\n",
              " 'Garnacha': 'Garnacha',\n",
              " 'Garnacha Blanca': 'Garnacha Blanca',\n",
              " 'Garnacha Noir': 'Pinot Noir',\n",
              " 'Garnacha Tinta': 'Garnacha',\n",
              " 'Gavi/Cortese di Gavi (DOCG)': 'Corvina, Rondinella, Molinara',\n",
              " 'Geisberg Grand Cru': 'Pinot Noir',\n",
              " \"Gentil D'Alsace\": 'Pinot Noir',\n",
              " 'Gevrey Chambertin, Red': 'Red Blend',\n",
              " 'Gewürztraminer': 'Gewürztraminer',\n",
              " 'Gewürztraminer, Alsace': 'Gewürztraminer',\n",
              " 'Gewürztraminer, German': 'Gewürztraminer',\n",
              " 'Gigondas': 'Pinot Noir',\n",
              " 'Godello': 'Godello',\n",
              " 'Granaccia': 'Pinot Noir',\n",
              " 'Grauburgunder': 'Grauburgunder',\n",
              " 'Graves, Red': 'Red Blend',\n",
              " 'Graves, White': 'White Blend',\n",
              " 'Grecanico': 'Grecanico',\n",
              " 'Greco di Tufo, White': 'White Blend',\n",
              " 'Grenache': 'Grenache',\n",
              " 'Grenache Blanc': 'Grenache Blanc',\n",
              " 'Grenache Gris': 'Grenache Gris',\n",
              " 'Grenache Shiraz Merlot (GSM)': 'Shiraz-Grenache',\n",
              " 'Grignan-Les Adhemar - White': 'White Blend',\n",
              " 'Grillo': 'Grillo',\n",
              " 'Gros Manseng': 'Gros Manseng',\n",
              " 'Grüner Veltliner': 'Grüner Veltliner',\n",
              " 'Guatamalan Antigua': 'Pinot Noir',\n",
              " 'Haut-Médoc (AOC)': 'Corvina, Rondinella, Molinara',\n",
              " 'Hermitage, Red': 'Red Blend',\n",
              " 'Hermitage, Red/White': 'Red Blend',\n",
              " 'Hermitage, White': 'White Blend',\n",
              " 'Ice Wine': 'Pinot Noir',\n",
              " 'Ice Wine, Riesling': 'Riesling',\n",
              " 'Irouléguy AOC': 'Pinot Noir',\n",
              " 'Jumilla, Red': 'Red Blend',\n",
              " 'Jurançon, Dry AOC': 'Corvina, Rondinella, Molinara',\n",
              " 'Jurançon, Sweet AOC': 'Corvina, Rondinella, Molinara',\n",
              " 'Kabinett Riesling': 'Riesling',\n",
              " 'Kirsh': 'Pinot Noir',\n",
              " 'Klevener de Heiligenstein': 'Tinta de Toro',\n",
              " 'Koshu': 'Pinot Noir',\n",
              " 'La Clape (AOC) - White': 'White Blend',\n",
              " 'Lambrusco': 'Lambrusco',\n",
              " 'Lambrusco Grasparossa': 'Lambrusco Grasparossa',\n",
              " 'Lambrusco Rosato': 'Rosato',\n",
              " 'Lambrusco Secco (dry)': 'Corvina, Rondinella, Molinara',\n",
              " 'Langhe Nebbiolo': 'Nebbiolo',\n",
              " 'Languedoc, Red': 'Red Blend',\n",
              " 'Languedoc, White': 'White Blend',\n",
              " 'Late Harvest Gewürztraminer': 'Gewürztraminer',\n",
              " 'Late Harvest Semillon': 'Sauvignon Blanc-Semillon',\n",
              " 'Late Harvest White Wines': 'White Blend',\n",
              " 'Late Harvest Wine, Alsatian': 'Corvina, Rondinella, Molinara',\n",
              " 'Late Harvest Wine, Pinot Gris': 'Pinot Gris',\n",
              " 'Late Harvest Wines': 'Pinot Noir',\n",
              " 'Lirac AOC - White': 'White Blend',\n",
              " 'Loupiac - AOP': 'Corvina, Rondinella, Molinara',\n",
              " 'Luberon AOP - Red': 'Red Blend',\n",
              " 'Lussac Saint-Émilion': 'Pinot Noir',\n",
              " 'Madeira': 'Madeira Blend',\n",
              " 'Madeira, Bual': 'Corvina, Rondinella, Molinara',\n",
              " 'Madeira, Malmsey': 'Corvina, Rondinella, Molinara',\n",
              " 'Madiran AOC': 'Pinot Noir',\n",
              " 'Malaga': 'Pinot Noir',\n",
              " 'Malbec': 'Malbec',\n",
              " 'Malbec, Argentian': 'Malbec',\n",
              " 'Malepère - AOP - Red': 'Red Blend',\n",
              " 'Marechal Foch': 'Pinot Noir',\n",
              " 'Margaux': 'Pinot Noir',\n",
              " 'Marsanne': 'Marsanne',\n",
              " 'Maury, Roussillon (Northern Catalonia)': 'Corvina, Rondinella, Molinara',\n",
              " 'Mencía': 'Mencía',\n",
              " 'Menetou Salon, Red': 'Red Blend',\n",
              " 'Menetou Salon, White': 'White Blend',\n",
              " 'Mercurey, Red': 'Red Blend',\n",
              " 'Merlot': 'Merlot',\n",
              " 'Meursault': 'Pinot Noir',\n",
              " 'Minervois, Red': 'Red Blend',\n",
              " 'Monastrell': 'Monastrell',\n",
              " 'Monbazillac': 'Pinot Noir',\n",
              " 'Montefalco Rosso DOC': 'Pinot Noir',\n",
              " 'Montepulciano': 'Montepulciano',\n",
              " \"Montepulciano d'Abruzzo\": 'Montepulciano',\n",
              " 'Montrachet': 'Pinot Noir',\n",
              " 'Morey-St-Denis': 'Pinot Noir',\n",
              " 'Morgon': 'Pinot Noir',\n",
              " 'Morgon (AOP) - Beaujolais Crus': 'Corvina, Rondinella, Molinara',\n",
              " 'Moscatel': 'Moscatel',\n",
              " \"Moscato d'Asti\": 'Moscato',\n",
              " 'Moulin-à-Vent': 'Muscat Blanc à Petits Grains',\n",
              " 'Mourvedre': 'Pinot Noir',\n",
              " 'Muenchberg - Grand Cru (Riesling)': 'Riesling',\n",
              " 'Muscadet': 'Pinot Noir',\n",
              " 'Muscadet Sèvre et Maine': 'Pinot Noir',\n",
              " 'Muscadet, Sweet White Wine': 'White Blend',\n",
              " 'Muscat de Beaumes-de-Venise': 'Tinta de Toro',\n",
              " 'Muscat de Rivesaltes': 'Tinta de Toro',\n",
              " 'Muscat, Alsace': 'Corvina, Rondinella, Molinara',\n",
              " 'Muscat, Black': 'Black Muscat',\n",
              " 'Muscat, Dry': 'Corvina, Rondinella, Molinara',\n",
              " 'Muscat, Off-Dry': 'Corvina, Rondinella, Molinara',\n",
              " 'Muscat, Orange': 'Orange Muscat',\n",
              " 'Muscat, Sweet': 'Corvina, Rondinella, Molinara',\n",
              " 'Musigny, Red': 'Red Blend',\n",
              " 'Musigny, White': 'White Blend',\n",
              " 'Mâcon, Red': 'Red Blend',\n",
              " 'Mâcon, White': 'White Blend',\n",
              " 'Mâcon-Villages': 'Pinot Noir',\n",
              " 'Mâconnais, White': 'White Blend',\n",
              " 'Médoc': 'Pinot Noir',\n",
              " 'Navarra': 'Pinot Noir',\n",
              " 'Nebbiolo': 'Nebbiolo',\n",
              " 'Negroamaro': 'Negroamaro',\n",
              " 'Nerello Mascalese': 'Nerello Mascalese',\n",
              " \"Nero d'Avola\": \"Nero d'Avola\",\n",
              " 'Nuits St Georges, Red': 'Red Blend',\n",
              " 'Oaked Wine': 'Pinot Noir',\n",
              " 'Oriveto Classico Superiore (DOC)': 'Corvina, Rondinella, Molinara',\n",
              " 'Ormeasco': 'Pinot Noir',\n",
              " 'Orvieto (DOC)': 'Corvina, Rondinella, Molinara',\n",
              " 'Orvieto Classico (DOC)': 'Corvina, Rondinella, Molinara',\n",
              " 'Patrimonio, Red AOC': 'Red Blend',\n",
              " 'Patrimonio, White AOC': 'White Blend',\n",
              " 'Pauillac (AOC)': 'Corvina, Rondinella, Molinara',\n",
              " 'Pessac Léognan, White': 'White Blend',\n",
              " 'Petit Chablis': 'Petit Verdot',\n",
              " 'Petit Verdot': 'Petit Verdot',\n",
              " 'Petite Sirah': 'Petite Sirah',\n",
              " 'Picpoul de Pinet': 'Tinta de Toro',\n",
              " 'Pigato': 'Pigato',\n",
              " 'Pinot Bianco': 'Pinot Bianco',\n",
              " 'Pinot Blanc': 'Pinot Blanc',\n",
              " 'Pinot Blanc Alsace': 'Pinot Blanc',\n",
              " 'Pinot Grigio': 'Pinot Grigio',\n",
              " 'Pinot Gris': 'Pinot Gris',\n",
              " 'Pinot Gris, Alsace': 'Pinot Gris',\n",
              " 'Pinot Noir': 'Pinot Noir',\n",
              " 'Pinotage': 'Pinotage',\n",
              " 'Pinotage, South Africa': 'Corvina, Rondinella, Molinara',\n",
              " 'Pomerol': 'Pinot Noir',\n",
              " 'Pommard': 'Pinot Noir',\n",
              " 'Port': 'Port',\n",
              " 'Pouilly Fuissé': 'Pinot Noir',\n",
              " 'Pouilly Fumé': 'Fumé Blanc',\n",
              " 'Pouilly sur Loire': 'Pinot Noir',\n",
              " 'Pradikat Riesling': 'Riesling',\n",
              " 'Primitivo': 'Primitivo',\n",
              " 'Priorat': 'Pinot Noir',\n",
              " 'Priorato, Red': 'Red Blend',\n",
              " 'Priorato, White': 'White Blend',\n",
              " 'Puligny-Montrachet, White': 'White Blend',\n",
              " 'Quarts de Chaume': 'Tinta de Toro',\n",
              " 'Quincy': 'Pinot Noir',\n",
              " 'Recioto della Valpolicella': 'Pinot Noir',\n",
              " 'Recioto di Soave Classico Spumante (DOCG)': 'Corvina, Rondinella, Molinara',\n",
              " 'Red Wine': 'Red Blend',\n",
              " 'Retsina': 'Pinot Noir',\n",
              " 'Reuilly, Red': 'Red Blend',\n",
              " 'Reuilly, White': 'White Blend',\n",
              " 'Rhone, Red Wine': 'Red Blend',\n",
              " 'Rhône, White Wine': 'Rhône-style White Blend',\n",
              " 'Ribera del Duero - Crianza': 'Corvina, Rondinella, Molinara',\n",
              " 'Ribera del Duero - Gran Reserva': 'Corvina, Rondinella, Molinara',\n",
              " 'Ribera del Duero - Reserva': 'Corvina, Rondinella, Molinara',\n",
              " 'Ribera del Duero, Red': 'Red Blend',\n",
              " 'Ribera del Duero, White': 'White Blend',\n",
              " 'Ribolla Gialla': 'Ribolla Gialla',\n",
              " 'Rieslaner': 'Rieslaner',\n",
              " 'Riesling': 'Riesling',\n",
              " 'Riesling, Alsace': 'Riesling',\n",
              " 'Riesling, Auslese': 'Riesling',\n",
              " 'Riesling, Grand Cru, Alsace': 'Riesling',\n",
              " 'Riesling, Late Harvest': 'Riesling',\n",
              " 'Riesling, Spätlese': 'Riesling',\n",
              " 'Rioja Crianza': 'Pinot Noir',\n",
              " 'Rioja Gran Reserva': 'Pinot Noir',\n",
              " 'Rioja Reserva': 'Pinot Noir',\n",
              " 'Rioja, Red': 'Red Blend',\n",
              " 'Rioja, White': 'White Blend',\n",
              " 'Ripasso Valpolicella': 'Pinot Noir',\n",
              " 'Roditis': 'Roditis',\n",
              " 'Roero Rosso': 'Pinot Noir',\n",
              " 'Rosado': 'Rosado',\n",
              " 'Rossese': 'Pinot Noir',\n",
              " 'Rosso Conero DOC': 'Pinot Noir',\n",
              " 'Rosso di Montalcino': 'Lambrusco di Sorbara',\n",
              " 'Rosé': 'Rosé',\n",
              " 'Roussanne': 'Roussanne',\n",
              " 'Rutherglen Muscat': 'Muscat',\n",
              " 'Sagrantino': 'Sagrantino',\n",
              " 'Saint-Aubin': 'Pinot Noir',\n",
              " 'Saint-Estèphe': 'Pinot Noir',\n",
              " 'Saint-Joseph': 'Pinot Noir',\n",
              " 'Saint-Julien': 'Pinot Noir',\n",
              " 'Saint-Émilion AOC': 'Pinot Noir',\n",
              " 'Saint-Émilion Grand Cru': 'Pinot Noir',\n",
              " 'Salice Salentino': 'Pinot Noir',\n",
              " 'Sancerre': 'Pinot Noir',\n",
              " 'Sangiovese': 'Sangiovese',\n",
              " 'Santeney, Red': 'Red Blend',\n",
              " 'Sauternes': 'Pinot Noir',\n",
              " 'Sauvignon Blanc': 'Sauvignon Blanc',\n",
              " 'Savennières': 'Pinot Noir',\n",
              " 'Semillon': 'Sauvignon Blanc-Semillon',\n",
              " 'Sherry': 'Sherry',\n",
              " 'Sherry, Amontillado': 'Corvina, Rondinella, Molinara',\n",
              " 'Sherry, Oloroso': 'Corvina, Rondinella, Molinara',\n",
              " 'Shiraz': 'Shiraz',\n",
              " 'Silvaner': 'Silvaner',\n",
              " 'Soave (Superiore)': 'Corvina, Rondinella, Molinara',\n",
              " 'Soave Superiore Classico': 'Pinot Noir',\n",
              " 'Sparkling Wine, Dry': 'Sparkling Blend',\n",
              " 'Spätlese Riesling': 'Riesling',\n",
              " 'Super Tuscan': 'Pinot Noir',\n",
              " 'Sweet Marsala': 'Pinot Noir',\n",
              " 'Sylvaner': 'Sylvaner',\n",
              " 'Syrah': 'Syrah',\n",
              " 'Syrah, France': 'Syrah',\n",
              " 'Syrah, Languedoc': 'Syrah',\n",
              " 'Syrah, Northern Rhône': 'Syrah',\n",
              " 'Tannat': 'Tannat',\n",
              " 'Tannic Wine': 'Pinot Noir',\n",
              " 'Taurasi': 'Pinot Noir',\n",
              " 'Tempranillo': 'Tempranillo',\n",
              " 'Tempranillo Crianza': 'Tempranillo',\n",
              " 'Tempranillo Reserva': 'Tempranillo',\n",
              " 'Tempranillo, Spain': 'Tempranillo',\n",
              " 'Tocai Friulano': 'Tocai Friulano',\n",
              " 'Tokaji': 'Tokaji',\n",
              " 'Tokaji, Hungary': 'Corvina, Rondinella, Molinara',\n",
              " 'Torrontés': 'Torrontés',\n",
              " 'Trebbiano': 'Trebbiano',\n",
              " 'Trebbiano di Lugana': 'Trebbiano di Lugana',\n",
              " 'Tursan AOVDQS - White': 'White Blend',\n",
              " 'Txakoli': 'Pinot Noir',\n",
              " 'Vacqueyras (AOC)': 'Corvina, Rondinella, Molinara',\n",
              " 'Valpolicella': 'Pinot Noir',\n",
              " 'Verdejo': 'Verdejo',\n",
              " 'Verdelho': 'Verdelho',\n",
              " 'Verdicchio': 'Verdicchio',\n",
              " 'Verdicchio dei Castelli di Jesi (DOC)': 'Corvina, Rondinella, Molinara',\n",
              " 'Verduzzo': 'Verduzzo',\n",
              " 'Vermentino': 'Vermentino',\n",
              " 'Vermentino Liguria': 'Vermentino',\n",
              " 'Vernaccia': 'Vernaccia',\n",
              " 'Vernaccia di San Gimignano (DOC)': 'Corvina, Rondinella, Molinara',\n",
              " 'Vernaccia di Serrapetrona Spumante, Red, Dry': 'Red Blend',\n",
              " 'Vignoles': 'Vignoles',\n",
              " 'Vin Gris': 'Pinot Gris',\n",
              " 'Vin Juane': 'Pinot Noir',\n",
              " 'Vin Santo': 'Pinot Noir',\n",
              " 'Vin de Glaciere': 'Tinta de Toro',\n",
              " 'Vin de Savoie - Red': 'Red Blend',\n",
              " 'Vin de Savoie - White': 'White Blend',\n",
              " 'Vinho Verde': 'Pinot Noir',\n",
              " 'Vino Nobile di Montepulciano': 'Montepulciano',\n",
              " 'Viognier': 'Viognier',\n",
              " 'Viura': 'Viura',\n",
              " 'Volnay, Red': 'Red Blend',\n",
              " 'Vosnes-Romanée': 'Pinot Noir',\n",
              " 'Vouvray': 'Pinot Noir',\n",
              " 'Vouvray Moelleux': 'Pinot Noir',\n",
              " 'Vouvray Sweet Viscous White Wine': 'White Blend',\n",
              " 'Vouvray, Demi-Sec': 'Corvina, Rondinella, Molinara',\n",
              " 'Vézelay': 'Pinot Noir',\n",
              " 'Weissburgunder': 'Weissburgunder',\n",
              " 'White Wine': 'White Blend',\n",
              " 'White Wine, Italian': 'White Blend',\n",
              " 'White Wine, Oaked': 'White Blend',\n",
              " 'White Wine, Unoaked': 'White Blend',\n",
              " 'White Zinfandel': 'Zinfandel',\n",
              " 'Zinfandel': 'Zinfandel',\n",
              " 'Zinfandel, Late Harvest': 'Zinfandel',\n",
              " 'Zweigelt': 'Zweigelt'}"
            ]
          },
          "metadata": {
            "tags": []
          },
          "execution_count": 97
        }
      ]
    },
    {
      "cell_type": "code",
      "metadata": {
        "id": "draDoXn7EheH",
        "colab_type": "code",
        "colab": {
          "base_uri": "https://localhost:8080/",
          "height": 142
        },
        "outputId": "1ccb4b0f-79fa-4bd9-89d4-2ba2f1eb135d"
      },
      "source": [
        "#ok that workd time to implement it\n",
        "pair_df.Beverage = [x if y=='Beer' else pairing_dict[x] for (x,y) in zip(pair_df['Beverage'].tolist(), pair_df['Beverage Category'].tolist())]"
      ],
      "execution_count": 98,
      "outputs": [
        {
          "output_type": "stream",
          "text": [
            "/usr/local/lib/python3.6/dist-packages/pandas/core/generic.py:5303: SettingWithCopyWarning: \n",
            "A value is trying to be set on a copy of a slice from a DataFrame.\n",
            "Try using .loc[row_indexer,col_indexer] = value instead\n",
            "\n",
            "See the caveats in the documentation: https://pandas.pydata.org/pandas-docs/stable/user_guide/indexing.html#returning-a-view-versus-a-copy\n",
            "  self[name] = value\n"
          ],
          "name": "stderr"
        }
      ]
    },
    {
      "cell_type": "code",
      "metadata": {
        "id": "0U8Ok5w1HV8B",
        "colab_type": "code",
        "colab": {
          "base_uri": "https://localhost:8080/",
          "height": 663
        },
        "outputId": "7a49f101-5ea9-4621-becf-fc996b997303"
      },
      "source": [
        "pair_df.head(20)"
      ],
      "execution_count": 99,
      "outputs": [
        {
          "output_type": "execute_result",
          "data": {
            "text/html": [
              "<div>\n",
              "<style scoped>\n",
              "    .dataframe tbody tr th:only-of-type {\n",
              "        vertical-align: middle;\n",
              "    }\n",
              "\n",
              "    .dataframe tbody tr th {\n",
              "        vertical-align: top;\n",
              "    }\n",
              "\n",
              "    .dataframe thead th {\n",
              "        text-align: right;\n",
              "    }\n",
              "</style>\n",
              "<table border=\"1\" class=\"dataframe\">\n",
              "  <thead>\n",
              "    <tr style=\"text-align: right;\">\n",
              "      <th></th>\n",
              "      <th>Beverage Category</th>\n",
              "      <th>Beverage</th>\n",
              "      <th>Food</th>\n",
              "      <th>Rating</th>\n",
              "    </tr>\n",
              "  </thead>\n",
              "  <tbody>\n",
              "    <tr>\n",
              "      <th>0</th>\n",
              "      <td>Sherry</td>\n",
              "      <td>Sherry</td>\n",
              "      <td>Almond</td>\n",
              "      <td>100</td>\n",
              "    </tr>\n",
              "    <tr>\n",
              "      <th>1</th>\n",
              "      <td>Sherry</td>\n",
              "      <td>Sherry</td>\n",
              "      <td>Almond</td>\n",
              "      <td>100</td>\n",
              "    </tr>\n",
              "    <tr>\n",
              "      <th>2</th>\n",
              "      <td>Red Wine</td>\n",
              "      <td>Bordeaux-style Red Blend</td>\n",
              "      <td>Grilled Lamb Chops in Bordelaise Sauce</td>\n",
              "      <td>100</td>\n",
              "    </tr>\n",
              "    <tr>\n",
              "      <th>3</th>\n",
              "      <td>Red Wine</td>\n",
              "      <td>Zinfandel</td>\n",
              "      <td>BBQ Ribs</td>\n",
              "      <td>100</td>\n",
              "    </tr>\n",
              "    <tr>\n",
              "      <th>4</th>\n",
              "      <td>Dessert Wine</td>\n",
              "      <td>Pinot Noir</td>\n",
              "      <td>Biscotti</td>\n",
              "      <td>100</td>\n",
              "    </tr>\n",
              "    <tr>\n",
              "      <th>5</th>\n",
              "      <td>Red Wine</td>\n",
              "      <td>Pinot Noir</td>\n",
              "      <td>Cassoulet</td>\n",
              "      <td>100</td>\n",
              "    </tr>\n",
              "    <tr>\n",
              "      <th>8</th>\n",
              "      <td>White Wine</td>\n",
              "      <td>Sauvignon Blanc</td>\n",
              "      <td>Ceviche</td>\n",
              "      <td>100</td>\n",
              "    </tr>\n",
              "    <tr>\n",
              "      <th>9</th>\n",
              "      <td>Red Wine</td>\n",
              "      <td>Corvina, Rondinella, Molinara</td>\n",
              "      <td>Charcuterie</td>\n",
              "      <td>100</td>\n",
              "    </tr>\n",
              "    <tr>\n",
              "      <th>10</th>\n",
              "      <td>White Wine</td>\n",
              "      <td>Pinot Noir</td>\n",
              "      <td>Chevre Cheese</td>\n",
              "      <td>100</td>\n",
              "    </tr>\n",
              "    <tr>\n",
              "      <th>11</th>\n",
              "      <td>White Wine</td>\n",
              "      <td>Pinot Noir</td>\n",
              "      <td>Goat Cheese</td>\n",
              "      <td>100</td>\n",
              "    </tr>\n",
              "    <tr>\n",
              "      <th>12</th>\n",
              "      <td>White Wine</td>\n",
              "      <td>Gewürztraminer</td>\n",
              "      <td>Muenster Cheese</td>\n",
              "      <td>100</td>\n",
              "    </tr>\n",
              "    <tr>\n",
              "      <th>13</th>\n",
              "      <td>Dessert Wine</td>\n",
              "      <td>Pinot Noir</td>\n",
              "      <td>Roquefort Cheese</td>\n",
              "      <td>100</td>\n",
              "    </tr>\n",
              "    <tr>\n",
              "      <th>14</th>\n",
              "      <td>Beer</td>\n",
              "      <td>American Malt Liquor</td>\n",
              "      <td>Stilton Cheese</td>\n",
              "      <td>100</td>\n",
              "    </tr>\n",
              "    <tr>\n",
              "      <th>15</th>\n",
              "      <td>Port</td>\n",
              "      <td>Port</td>\n",
              "      <td>Stilton Cheese</td>\n",
              "      <td>100</td>\n",
              "    </tr>\n",
              "    <tr>\n",
              "      <th>16</th>\n",
              "      <td>Port</td>\n",
              "      <td>Port</td>\n",
              "      <td>Stilton Cheese</td>\n",
              "      <td>100</td>\n",
              "    </tr>\n",
              "    <tr>\n",
              "      <th>17</th>\n",
              "      <td>Port</td>\n",
              "      <td>Port</td>\n",
              "      <td>Chocolate</td>\n",
              "      <td>100</td>\n",
              "    </tr>\n",
              "    <tr>\n",
              "      <th>18</th>\n",
              "      <td>Port</td>\n",
              "      <td>Port</td>\n",
              "      <td>Chocolate</td>\n",
              "      <td>100</td>\n",
              "    </tr>\n",
              "    <tr>\n",
              "      <th>19</th>\n",
              "      <td>Port</td>\n",
              "      <td>Port</td>\n",
              "      <td>Chocolate</td>\n",
              "      <td>100</td>\n",
              "    </tr>\n",
              "    <tr>\n",
              "      <th>20</th>\n",
              "      <td>Dessert Wine</td>\n",
              "      <td>Pinot Noir</td>\n",
              "      <td>Dark Chocolate</td>\n",
              "      <td>100</td>\n",
              "    </tr>\n",
              "    <tr>\n",
              "      <th>21</th>\n",
              "      <td>White Wine</td>\n",
              "      <td>Riesling</td>\n",
              "      <td>Choucroute</td>\n",
              "      <td>100</td>\n",
              "    </tr>\n",
              "  </tbody>\n",
              "</table>\n",
              "</div>"
            ],
            "text/plain": [
              "   Beverage Category  ... Rating\n",
              "0             Sherry  ...    100\n",
              "1             Sherry  ...    100\n",
              "2           Red Wine  ...    100\n",
              "3           Red Wine  ...    100\n",
              "4       Dessert Wine  ...    100\n",
              "5           Red Wine  ...    100\n",
              "8         White Wine  ...    100\n",
              "9           Red Wine  ...    100\n",
              "10        White Wine  ...    100\n",
              "11        White Wine  ...    100\n",
              "12        White Wine  ...    100\n",
              "13      Dessert Wine  ...    100\n",
              "14              Beer  ...    100\n",
              "15              Port  ...    100\n",
              "16              Port  ...    100\n",
              "17              Port  ...    100\n",
              "18              Port  ...    100\n",
              "19              Port  ...    100\n",
              "20      Dessert Wine  ...    100\n",
              "21        White Wine  ...    100\n",
              "\n",
              "[20 rows x 4 columns]"
            ]
          },
          "metadata": {
            "tags": []
          },
          "execution_count": 99
        }
      ]
    },
    {
      "cell_type": "code",
      "metadata": {
        "id": "AsocBsdvHz6z",
        "colab_type": "code",
        "colab": {
          "base_uri": "https://localhost:8080/",
          "height": 541
        },
        "outputId": "c9f21c01-d248-4ea9-a01f-f4023c31fb89"
      },
      "source": [
        "#ok make the beverage category just beer or wine\n",
        "pair_df['Beverage Category'] = [x if x=='Beer' else 'Wine' for x in pair_df['Beverage Category']]\n",
        "pair_df.head(100)"
      ],
      "execution_count": 100,
      "outputs": [
        {
          "output_type": "stream",
          "text": [
            "/usr/local/lib/python3.6/dist-packages/ipykernel_launcher.py:1: SettingWithCopyWarning: \n",
            "A value is trying to be set on a copy of a slice from a DataFrame.\n",
            "Try using .loc[row_indexer,col_indexer] = value instead\n",
            "\n",
            "See the caveats in the documentation: https://pandas.pydata.org/pandas-docs/stable/user_guide/indexing.html#returning-a-view-versus-a-copy\n",
            "  \"\"\"Entry point for launching an IPython kernel.\n"
          ],
          "name": "stderr"
        },
        {
          "output_type": "execute_result",
          "data": {
            "text/html": [
              "<div>\n",
              "<style scoped>\n",
              "    .dataframe tbody tr th:only-of-type {\n",
              "        vertical-align: middle;\n",
              "    }\n",
              "\n",
              "    .dataframe tbody tr th {\n",
              "        vertical-align: top;\n",
              "    }\n",
              "\n",
              "    .dataframe thead th {\n",
              "        text-align: right;\n",
              "    }\n",
              "</style>\n",
              "<table border=\"1\" class=\"dataframe\">\n",
              "  <thead>\n",
              "    <tr style=\"text-align: right;\">\n",
              "      <th></th>\n",
              "      <th>Beverage Category</th>\n",
              "      <th>Beverage</th>\n",
              "      <th>Food</th>\n",
              "      <th>Rating</th>\n",
              "    </tr>\n",
              "  </thead>\n",
              "  <tbody>\n",
              "    <tr>\n",
              "      <th>0</th>\n",
              "      <td>Wine</td>\n",
              "      <td>Sherry</td>\n",
              "      <td>Almond</td>\n",
              "      <td>100</td>\n",
              "    </tr>\n",
              "    <tr>\n",
              "      <th>1</th>\n",
              "      <td>Wine</td>\n",
              "      <td>Sherry</td>\n",
              "      <td>Almond</td>\n",
              "      <td>100</td>\n",
              "    </tr>\n",
              "    <tr>\n",
              "      <th>2</th>\n",
              "      <td>Wine</td>\n",
              "      <td>Bordeaux-style Red Blend</td>\n",
              "      <td>Grilled Lamb Chops in Bordelaise Sauce</td>\n",
              "      <td>100</td>\n",
              "    </tr>\n",
              "    <tr>\n",
              "      <th>3</th>\n",
              "      <td>Wine</td>\n",
              "      <td>Zinfandel</td>\n",
              "      <td>BBQ Ribs</td>\n",
              "      <td>100</td>\n",
              "    </tr>\n",
              "    <tr>\n",
              "      <th>4</th>\n",
              "      <td>Wine</td>\n",
              "      <td>Pinot Noir</td>\n",
              "      <td>Biscotti</td>\n",
              "      <td>100</td>\n",
              "    </tr>\n",
              "    <tr>\n",
              "      <th>...</th>\n",
              "      <td>...</td>\n",
              "      <td>...</td>\n",
              "      <td>...</td>\n",
              "      <td>...</td>\n",
              "    </tr>\n",
              "    <tr>\n",
              "      <th>104</th>\n",
              "      <td>Wine</td>\n",
              "      <td>Rhône-style Red Blend</td>\n",
              "      <td>Beef Braised</td>\n",
              "      <td>90</td>\n",
              "    </tr>\n",
              "    <tr>\n",
              "      <th>105</th>\n",
              "      <td>Wine</td>\n",
              "      <td>Malbec-Carménère</td>\n",
              "      <td>Lechon Asado</td>\n",
              "      <td>90</td>\n",
              "    </tr>\n",
              "    <tr>\n",
              "      <th>106</th>\n",
              "      <td>Wine</td>\n",
              "      <td>Bordeaux-style Red Blend</td>\n",
              "      <td>Roast Beef</td>\n",
              "      <td>90</td>\n",
              "    </tr>\n",
              "    <tr>\n",
              "      <th>107</th>\n",
              "      <td>Wine</td>\n",
              "      <td>Zinfandel</td>\n",
              "      <td>Beef Short Ribs</td>\n",
              "      <td>90</td>\n",
              "    </tr>\n",
              "    <tr>\n",
              "      <th>108</th>\n",
              "      <td>Wine</td>\n",
              "      <td>Shiraz</td>\n",
              "      <td>Beef Stew</td>\n",
              "      <td>90</td>\n",
              "    </tr>\n",
              "  </tbody>\n",
              "</table>\n",
              "<p>100 rows × 4 columns</p>\n",
              "</div>"
            ],
            "text/plain": [
              "    Beverage Category  ... Rating\n",
              "0                Wine  ...    100\n",
              "1                Wine  ...    100\n",
              "2                Wine  ...    100\n",
              "3                Wine  ...    100\n",
              "4                Wine  ...    100\n",
              "..                ...  ...    ...\n",
              "104              Wine  ...     90\n",
              "105              Wine  ...     90\n",
              "106              Wine  ...     90\n",
              "107              Wine  ...     90\n",
              "108              Wine  ...     90\n",
              "\n",
              "[100 rows x 4 columns]"
            ]
          },
          "metadata": {
            "tags": []
          },
          "execution_count": 100
        }
      ]
    },
    {
      "cell_type": "code",
      "metadata": {
        "id": "g09ZmEANIg5F",
        "colab_type": "code",
        "colab": {
          "base_uri": "https://localhost:8080/",
          "height": 416
        },
        "outputId": "9fbbbbf2-9140-4682-fce1-5689771ecf10"
      },
      "source": [
        "#drop duplicates from all of them\n",
        "wine_df = wine_df.reset_index(drop=True)\n",
        "beer_brew_df = beer_brew_df.reset_index(drop=True)\n",
        "pair_df = pair_df.drop_duplicates()\n",
        "pair_df = pair_df.reset_index(drop=True)\n",
        "pair_df"
      ],
      "execution_count": 111,
      "outputs": [
        {
          "output_type": "execute_result",
          "data": {
            "text/html": [
              "<div>\n",
              "<style scoped>\n",
              "    .dataframe tbody tr th:only-of-type {\n",
              "        vertical-align: middle;\n",
              "    }\n",
              "\n",
              "    .dataframe tbody tr th {\n",
              "        vertical-align: top;\n",
              "    }\n",
              "\n",
              "    .dataframe thead th {\n",
              "        text-align: right;\n",
              "    }\n",
              "</style>\n",
              "<table border=\"1\" class=\"dataframe\">\n",
              "  <thead>\n",
              "    <tr style=\"text-align: right;\">\n",
              "      <th></th>\n",
              "      <th>Beverage Category</th>\n",
              "      <th>Beverage</th>\n",
              "      <th>Food</th>\n",
              "      <th>Rating</th>\n",
              "    </tr>\n",
              "  </thead>\n",
              "  <tbody>\n",
              "    <tr>\n",
              "      <th>0</th>\n",
              "      <td>Wine</td>\n",
              "      <td>Sherry</td>\n",
              "      <td>Almond</td>\n",
              "      <td>100</td>\n",
              "    </tr>\n",
              "    <tr>\n",
              "      <th>1</th>\n",
              "      <td>Wine</td>\n",
              "      <td>Bordeaux-style Red Blend</td>\n",
              "      <td>Grilled Lamb Chops in Bordelaise Sauce</td>\n",
              "      <td>100</td>\n",
              "    </tr>\n",
              "    <tr>\n",
              "      <th>2</th>\n",
              "      <td>Wine</td>\n",
              "      <td>Zinfandel</td>\n",
              "      <td>BBQ Ribs</td>\n",
              "      <td>100</td>\n",
              "    </tr>\n",
              "    <tr>\n",
              "      <th>3</th>\n",
              "      <td>Wine</td>\n",
              "      <td>Pinot Noir</td>\n",
              "      <td>Biscotti</td>\n",
              "      <td>100</td>\n",
              "    </tr>\n",
              "    <tr>\n",
              "      <th>4</th>\n",
              "      <td>Wine</td>\n",
              "      <td>Pinot Noir</td>\n",
              "      <td>Cassoulet</td>\n",
              "      <td>100</td>\n",
              "    </tr>\n",
              "    <tr>\n",
              "      <th>...</th>\n",
              "      <td>...</td>\n",
              "      <td>...</td>\n",
              "      <td>...</td>\n",
              "      <td>...</td>\n",
              "    </tr>\n",
              "    <tr>\n",
              "      <th>7672</th>\n",
              "      <td>Wine</td>\n",
              "      <td>Red Blend</td>\n",
              "      <td>Kale</td>\n",
              "      <td>0</td>\n",
              "    </tr>\n",
              "    <tr>\n",
              "      <th>7673</th>\n",
              "      <td>Wine</td>\n",
              "      <td>Chardonnay</td>\n",
              "      <td>Korean Cuisine</td>\n",
              "      <td>0</td>\n",
              "    </tr>\n",
              "    <tr>\n",
              "      <th>7674</th>\n",
              "      <td>Wine</td>\n",
              "      <td>White Blend</td>\n",
              "      <td>Korean Cuisine</td>\n",
              "      <td>0</td>\n",
              "    </tr>\n",
              "    <tr>\n",
              "      <th>7675</th>\n",
              "      <td>Wine</td>\n",
              "      <td>Red Blend</td>\n",
              "      <td>Peanuts</td>\n",
              "      <td>0</td>\n",
              "    </tr>\n",
              "    <tr>\n",
              "      <th>7676</th>\n",
              "      <td>Wine</td>\n",
              "      <td>Red Blend</td>\n",
              "      <td>Oysters</td>\n",
              "      <td>0</td>\n",
              "    </tr>\n",
              "  </tbody>\n",
              "</table>\n",
              "<p>7677 rows × 4 columns</p>\n",
              "</div>"
            ],
            "text/plain": [
              "     Beverage Category  ... Rating\n",
              "0                 Wine  ...    100\n",
              "1                 Wine  ...    100\n",
              "2                 Wine  ...    100\n",
              "3                 Wine  ...    100\n",
              "4                 Wine  ...    100\n",
              "...                ...  ...    ...\n",
              "7672              Wine  ...      0\n",
              "7673              Wine  ...      0\n",
              "7674              Wine  ...      0\n",
              "7675              Wine  ...      0\n",
              "7676              Wine  ...      0\n",
              "\n",
              "[7677 rows x 4 columns]"
            ]
          },
          "metadata": {
            "tags": []
          },
          "execution_count": 111
        }
      ]
    },
    {
      "cell_type": "code",
      "metadata": {
        "id": "4F9krwgiLA7k",
        "colab_type": "code",
        "colab": {}
      },
      "source": [
        "#write to new csv files\n",
        "wine_df.to_csv(os.path.join(data_path, 'wine_df_clean.csv'))\n",
        "pair_df.to_csv(os.path.join(data_path, 'pair_df_clean.csv'))\n",
        "beer_brew_df.to_csv(os.path.join(data_path, 'beer_brew_df_clean.csv'))"
      ],
      "execution_count": 0,
      "outputs": []
    }
  ]
}